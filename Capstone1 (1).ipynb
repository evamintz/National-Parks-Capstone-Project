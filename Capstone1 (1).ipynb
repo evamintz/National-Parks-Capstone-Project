{
 "cells": [
  {
   "cell_type": "markdown",
   "metadata": {},
   "source": [
    "# National Park Trail Analysis\n",
    "Springboard Capstone 1\n",
    "\n",
    "Evan Hintz"
   ]
  },
  {
   "cell_type": "code",
   "execution_count": 1,
   "metadata": {},
   "outputs": [],
   "source": [
    "#data manipulating/organizing and plotting\n",
    "import pandas as pd\n",
    "import pandas.plotting\n",
    "import csv\n",
    "import matplotlib\n",
    "import matplotlib.pyplot as plt\n",
    "import seaborn as sns"
   ]
  },
  {
   "cell_type": "code",
   "execution_count": 2,
   "metadata": {},
   "outputs": [],
   "source": [
    "#stats packages\n",
    "import scipy.stats as stats\n",
    "from scipy.stats import ttest_ind, ttest_ind_from_stats\n",
    "import numpy as np"
   ]
  },
  {
   "cell_type": "code",
   "execution_count": 3,
   "metadata": {},
   "outputs": [],
   "source": [
    "#Machine learning packages\n",
    "from sklearn.model_selection import train_test_split, KFold, cross_val_score, GridSearchCV\n",
    "from sklearn import preprocessing, svm, metrics, linear_model\n",
    "from sklearn.preprocessing import MinMaxScaler\n",
    "from sklearn.svm import LinearSVC\n",
    "from sklearn.linear_model import LogisticRegression\n",
    "from sklearn.ensemble import RandomForestClassifier\n",
    "from sklearn.discriminant_analysis import LinearDiscriminantAnalysis\n",
    "from sklearn.naive_bayes import GaussianNB\n",
    "from sklearn.tree import DecisionTreeClassifier\n",
    "from sklearn.neighbors import KNeighborsClassifier\n",
    "from sklearn.metrics import classification_report, confusion_matrix, accuracy_score"
   ]
  },
  {
   "cell_type": "code",
   "execution_count": 4,
   "metadata": {},
   "outputs": [],
   "source": [
    "#deal with any warnings\n",
    "from sklearn.utils.testing import ignore_warnings\n",
    "from sklearn.exceptions import ConvergenceWarning\n",
    "from warnings import simplefilter\n",
    "# ignore all future warnings\n",
    "simplefilter(action='ignore', category=FutureWarning)"
   ]
  },
  {
   "cell_type": "code",
   "execution_count": 5,
   "metadata": {},
   "outputs": [
    {
     "data": {
      "text/html": [
       "<div>\n",
       "<style scoped>\n",
       "    .dataframe tbody tr th:only-of-type {\n",
       "        vertical-align: middle;\n",
       "    }\n",
       "\n",
       "    .dataframe tbody tr th {\n",
       "        vertical-align: top;\n",
       "    }\n",
       "\n",
       "    .dataframe thead th {\n",
       "        text-align: right;\n",
       "    }\n",
       "</style>\n",
       "<table border=\"1\" class=\"dataframe\">\n",
       "  <thead>\n",
       "    <tr style=\"text-align: right;\">\n",
       "      <th></th>\n",
       "      <th>trail_id</th>\n",
       "      <th>name</th>\n",
       "      <th>area_name</th>\n",
       "      <th>city_name</th>\n",
       "      <th>state_name</th>\n",
       "      <th>country_name</th>\n",
       "      <th>_geoloc</th>\n",
       "      <th>popularity</th>\n",
       "      <th>length</th>\n",
       "      <th>elevation_gain</th>\n",
       "      <th>difficulty_rating</th>\n",
       "      <th>route_type</th>\n",
       "      <th>visitor_usage</th>\n",
       "      <th>avg_rating</th>\n",
       "      <th>num_reviews</th>\n",
       "      <th>features</th>\n",
       "      <th>activities</th>\n",
       "      <th>units</th>\n",
       "    </tr>\n",
       "  </thead>\n",
       "  <tbody>\n",
       "    <tr>\n",
       "      <td>0</td>\n",
       "      <td>10020048</td>\n",
       "      <td>Harding Ice Field Trail</td>\n",
       "      <td>Kenai Fjords National Park</td>\n",
       "      <td>Seward</td>\n",
       "      <td>Alaska</td>\n",
       "      <td>United States</td>\n",
       "      <td>{'lat': 60.18852, 'lng': -149.63156}</td>\n",
       "      <td>24.8931</td>\n",
       "      <td>15610.598</td>\n",
       "      <td>1161.8976</td>\n",
       "      <td>5</td>\n",
       "      <td>out and back</td>\n",
       "      <td>3.0</td>\n",
       "      <td>5.0</td>\n",
       "      <td>423</td>\n",
       "      <td>['dogs-no', 'forest', 'river', 'views', 'waterfall', 'wild-flowers', 'wildlife']</td>\n",
       "      <td>['birding', 'camping', 'hiking', 'nature-trips', 'trail-running']</td>\n",
       "      <td>i</td>\n",
       "    </tr>\n",
       "    <tr>\n",
       "      <td>1</td>\n",
       "      <td>10236086</td>\n",
       "      <td>Mount Healy Overlook Trail</td>\n",
       "      <td>Denali National Park</td>\n",
       "      <td>Denali National Park</td>\n",
       "      <td>Alaska</td>\n",
       "      <td>United States</td>\n",
       "      <td>{'lat': 63.73049, 'lng': -148.91968}</td>\n",
       "      <td>18.0311</td>\n",
       "      <td>6920.162</td>\n",
       "      <td>507.7968</td>\n",
       "      <td>3</td>\n",
       "      <td>out and back</td>\n",
       "      <td>1.0</td>\n",
       "      <td>4.5</td>\n",
       "      <td>260</td>\n",
       "      <td>['dogs-no', 'forest', 'views', 'wild-flowers', 'wildlife']</td>\n",
       "      <td>['birding', 'camping', 'hiking', 'nature-trips', 'walking']</td>\n",
       "      <td>i</td>\n",
       "    </tr>\n",
       "    <tr>\n",
       "      <td>2</td>\n",
       "      <td>10267857</td>\n",
       "      <td>Exit Glacier Trail</td>\n",
       "      <td>Kenai Fjords National Park</td>\n",
       "      <td>Seward</td>\n",
       "      <td>Alaska</td>\n",
       "      <td>United States</td>\n",
       "      <td>{'lat': 60.18879, 'lng': -149.631}</td>\n",
       "      <td>17.7821</td>\n",
       "      <td>2896.812</td>\n",
       "      <td>81.9912</td>\n",
       "      <td>1</td>\n",
       "      <td>out and back</td>\n",
       "      <td>3.0</td>\n",
       "      <td>4.5</td>\n",
       "      <td>224</td>\n",
       "      <td>['dogs-no', 'partially-paved', 'views', 'wildlife']</td>\n",
       "      <td>['hiking', 'walking']</td>\n",
       "      <td>i</td>\n",
       "    </tr>\n",
       "  </tbody>\n",
       "</table>\n",
       "</div>"
      ],
      "text/plain": [
       "   trail_id                        name                   area_name  \\\n",
       "0  10020048  Harding Ice Field Trail     Kenai Fjords National Park   \n",
       "1  10236086  Mount Healy Overlook Trail  Denali National Park         \n",
       "2  10267857  Exit Glacier Trail          Kenai Fjords National Park   \n",
       "\n",
       "              city_name state_name   country_name  \\\n",
       "0  Seward                Alaska     United States   \n",
       "1  Denali National Park  Alaska     United States   \n",
       "2  Seward                Alaska     United States   \n",
       "\n",
       "                                _geoloc  popularity     length  \\\n",
       "0  {'lat': 60.18852, 'lng': -149.63156}  24.8931     15610.598   \n",
       "1  {'lat': 63.73049, 'lng': -148.91968}  18.0311     6920.162    \n",
       "2  {'lat': 60.18879, 'lng': -149.631}    17.7821     2896.812    \n",
       "\n",
       "   elevation_gain  difficulty_rating    route_type  visitor_usage  avg_rating  \\\n",
       "0  1161.8976       5                  out and back  3.0            5.0          \n",
       "1  507.7968        3                  out and back  1.0            4.5          \n",
       "2  81.9912         1                  out and back  3.0            4.5          \n",
       "\n",
       "   num_reviews  \\\n",
       "0  423           \n",
       "1  260           \n",
       "2  224           \n",
       "\n",
       "                                                                           features  \\\n",
       "0  ['dogs-no', 'forest', 'river', 'views', 'waterfall', 'wild-flowers', 'wildlife']   \n",
       "1  ['dogs-no', 'forest', 'views', 'wild-flowers', 'wildlife']                         \n",
       "2  ['dogs-no', 'partially-paved', 'views', 'wildlife']                                \n",
       "\n",
       "                                                          activities units  \n",
       "0  ['birding', 'camping', 'hiking', 'nature-trips', 'trail-running']  i     \n",
       "1  ['birding', 'camping', 'hiking', 'nature-trips', 'walking']        i     \n",
       "2  ['hiking', 'walking']                                              i     "
      ]
     },
     "execution_count": 5,
     "metadata": {},
     "output_type": "execute_result"
    }
   ],
   "source": [
    "#import dataset\n",
    "pd.set_option('display.max_colwidth', -1)\n",
    "df = pd.read_csv(r'C:\\Users\\Evan\\Programming\\Jupiter Projects\\NatPark Capstone\\Trail Data\\AllTrails data - nationalpark.csv')\n",
    "\n",
    "#create a dataframe that won't be altered at all for any kind of necessary testing\n",
    "og_df = pd.read_csv(r'C:\\Users\\Evan\\Programming\\Jupiter Projects\\NatPark Capstone\\Trail Data\\AllTrails data - nationalpark.csv')\n",
    "\n",
    "df.head(3)"
   ]
  },
  {
   "cell_type": "markdown",
   "metadata": {},
   "source": [
    "# Clean and reorganize data for analysis"
   ]
  },
  {
   "cell_type": "markdown",
   "metadata": {},
   "source": [
    "Check for any missing values within the dataset."
   ]
  },
  {
   "cell_type": "code",
   "execution_count": 6,
   "metadata": {},
   "outputs": [
    {
     "name": "stdout",
     "output_type": "stream",
     "text": [
      "<class 'pandas.core.frame.DataFrame'>\n",
      "RangeIndex: 3313 entries, 0 to 3312\n",
      "Data columns (total 18 columns):\n",
      "trail_id             3313 non-null int64\n",
      "name                 3313 non-null object\n",
      "area_name            3313 non-null object\n",
      "city_name            3313 non-null object\n",
      "state_name           3313 non-null object\n",
      "country_name         3313 non-null object\n",
      "_geoloc              3313 non-null object\n",
      "popularity           3313 non-null float64\n",
      "length               3313 non-null float64\n",
      "elevation_gain       3313 non-null float64\n",
      "difficulty_rating    3313 non-null int64\n",
      "route_type           3313 non-null object\n",
      "visitor_usage        3060 non-null float64\n",
      "avg_rating           3313 non-null float64\n",
      "num_reviews          3313 non-null int64\n",
      "features             3313 non-null object\n",
      "activities           3313 non-null object\n",
      "units                3313 non-null object\n",
      "dtypes: float64(5), int64(3), object(10)\n",
      "memory usage: 466.0+ KB\n"
     ]
    }
   ],
   "source": [
    "df.info()"
   ]
  },
  {
   "cell_type": "markdown",
   "metadata": {},
   "source": [
    "The only visible 'False' value is under 'visitor_usage'. "
   ]
  },
  {
   "cell_type": "markdown",
   "metadata": {},
   "source": [
    "Visitor usage seems to be the only column with any missing values (253 rows). Since this is only about 7.6% of the data the 253 rows will be omitted."
   ]
  },
  {
   "cell_type": "code",
   "execution_count": 7,
   "metadata": {},
   "outputs": [
    {
     "name": "stdout",
     "output_type": "stream",
     "text": [
      "<class 'pandas.core.frame.DataFrame'>\n",
      "Int64Index: 3060 entries, 0 to 3312\n",
      "Data columns (total 18 columns):\n",
      "trail_id             3060 non-null int64\n",
      "name                 3060 non-null object\n",
      "area_name            3060 non-null object\n",
      "city_name            3060 non-null object\n",
      "state_name           3060 non-null object\n",
      "country_name         3060 non-null object\n",
      "_geoloc              3060 non-null object\n",
      "popularity           3060 non-null float64\n",
      "length               3060 non-null float64\n",
      "elevation_gain       3060 non-null float64\n",
      "difficulty_rating    3060 non-null int64\n",
      "route_type           3060 non-null object\n",
      "visitor_usage        3060 non-null float64\n",
      "avg_rating           3060 non-null float64\n",
      "num_reviews          3060 non-null int64\n",
      "features             3060 non-null object\n",
      "activities           3060 non-null object\n",
      "units                3060 non-null object\n",
      "dtypes: float64(5), int64(3), object(10)\n",
      "memory usage: 454.2+ KB\n"
     ]
    }
   ],
   "source": [
    "df = df.dropna()\n",
    "df.info()\n",
    "#left with 3060 rows"
   ]
  },
  {
   "cell_type": "code",
   "execution_count": 8,
   "metadata": {},
   "outputs": [],
   "source": [
    "#go through each item in features and activities to create a new column for easier analysis\n",
    "\n",
    "#new column for each feature\n",
    "df['forest'] = df['features'].apply(lambda x: 1 if 'forest' in x else 0)\n",
    "df['river'] = df['features'].apply(lambda x: 1 if 'river' in x else 0)\n",
    "df['no-dogs'] = df['features'].apply(lambda x: 1 if 'dogs-no' in x else 0)\n",
    "df['leash-dogs'] = df['features'].apply(lambda x: 1 if 'dogs-leash' in x else 0)\n",
    "df['views'] = df['features'].apply(lambda x: 1 if 'views' in x else 0)\n",
    "df['waterfall'] = df['features'].apply(lambda x: 1 if 'waterfall' in x else 0)\n",
    "df['wildlife'] = df['features'].apply(lambda x: 1 if 'wildlife' in x else 0)\n",
    "df['wild-flowers'] = df['features'].apply(lambda x: 1 if 'wild-flowers' in x else 0)\n",
    "df['lake'] = df['features'].apply(lambda x: 1 if 'lake' in x else 0)\n",
    "df['beach'] = df['features'].apply(lambda x: 1 if 'beach' in x else 0)\n",
    "df['paved'] = df['features'].apply(lambda x: 1 if 'paved' in x else 0)\n",
    "df['kids'] = df['features'].apply(lambda x: 1 if 'kids' in x else 0)\n",
    "df['partially-paved'] = df['features'].apply(lambda x: 1 if 'partially-paved' in x else 0)\n",
    "df['cave'] = df['features'].apply(lambda x: 1 if 'cave' in x else 0)\n",
    "df['strollers'] = df['features'].apply(lambda x: 1 if 'strollers' in x else 0)\n",
    "\n",
    "#new column for each activity\n",
    "df['birding'] = df['activities'].apply(lambda x: 1 if 'birding' in x else 0)\n",
    "df['hiking'] = df['activities'].apply(lambda x: 1 if 'hiking' in x else 0)\n",
    "df['nature-trips'] = df['activities'].apply(lambda x: 1 if 'nature-trips' in x else 0)\n",
    "df['walking'] = df['activities'].apply(lambda x: 1 if 'walking' in x else 0)\n",
    "df['mountain-biking'] = df['activities'].apply(lambda x: 1 if 'mountain-biking' in x else 0)\n",
    "df['trail-running'] = df['activities'].apply(lambda x: 1 if 'trail-running' in x else 0)\n",
    "df['camping'] = df['activities'].apply(lambda x: 1 if 'camping' in x else 0)\n",
    "df['fishing'] = df['activities'].apply(lambda x: 1 if 'fishing' in x else 0)\n",
    "df['snowshoeing'] = df['activities'].apply(lambda x: 1 if 'snowshoeing' in x else 0)\n",
    "df['fly-fishing'] = df['activities'].apply(lambda x: 1 if 'fly-fishing' in x else 0)\n",
    "df['backpacking'] = df['activities'].apply(lambda x: 1 if 'backpacking' in x else 0)\n",
    "df['horseback-riding'] = df['activities'].apply(lambda x: 1 if 'horseback-riding' in x else 0)\n",
    "df['rock-climbing'] = df['activities'].apply(lambda x: 1 if 'rock-climbing' in x else 0)\n",
    "df['scenic-driving'] = df['activities'].apply(lambda x: 1 if 'scenic-driving' in x else 0)\n"
   ]
  },
  {
   "cell_type": "code",
   "execution_count": 9,
   "metadata": {},
   "outputs": [],
   "source": [
    "#now get rid of the original features/activity columns \n",
    "df.drop('features', axis=1, inplace=True)\n",
    "df.drop('activities', axis=1, inplace=True)"
   ]
  },
  {
   "cell_type": "markdown",
   "metadata": {},
   "source": [
    "Maui has been discovered to be listed as its own state (it is a county/island within the state), combine this with Hawaii. The simplest solution here seems to be to just change the 'Maui' entries to 'Hawaii'."
   ]
  },
  {
   "cell_type": "code",
   "execution_count": 10,
   "metadata": {},
   "outputs": [],
   "source": [
    "#replace any instances of Maui as a state name with Hawaii\n",
    "df['state_name']=df[\"state_name\"].replace('Maui', \"Hawaii\")"
   ]
  },
  {
   "cell_type": "markdown",
   "metadata": {},
   "source": [
    "During this reorganizing it has also been noticed that the country name for both Maui and Hawaii are listed as Hawaii, but of course these are both within the United States so this will be resolved as well."
   ]
  },
  {
   "cell_type": "code",
   "execution_count": 11,
   "metadata": {},
   "outputs": [],
   "source": [
    "#replace any isntances of Hawaii as a country name with United States\n",
    "df['country_name']=df[\"country_name\"].replace('Hawaii', \"United States\")"
   ]
  },
  {
   "cell_type": "markdown",
   "metadata": {},
   "source": [
    "While Hawaii is also the only state with trails that are under the 'm' for units indicating the use of the metric\n",
    "system, all of the trails in the data is actually already under the metric system (cross-validated trail lengths and \n",
    "elevation gain with alltrails.com). The column will be adjusted to show this."
   ]
  },
  {
   "cell_type": "code",
   "execution_count": 12,
   "metadata": {},
   "outputs": [],
   "source": [
    "#change m units to i for consistency\n",
    "df['units']=df['units'].replace('i', 'm')"
   ]
  },
  {
   "cell_type": "markdown",
   "metadata": {},
   "source": [
    "# Exploratory Data Analysis & Story Telling"
   ]
  },
  {
   "cell_type": "markdown",
   "metadata": {},
   "source": [
    "Start by checking out how the trails are distributed through the country."
   ]
  },
  {
   "cell_type": "code",
   "execution_count": 13,
   "metadata": {},
   "outputs": [
    {
     "data": {
      "text/plain": [
       "California        633\n",
       "Washington        297\n",
       "Wyoming           290\n",
       "Utah              282\n",
       "Colorado          242\n",
       "Maine             175\n",
       "Arizona           164\n",
       "Virginia          163\n",
       "Tennessee         162\n",
       "Montana           144\n",
       "North Carolina    109\n",
       "Texas             91 \n",
       "Ohio              50 \n",
       "Hawaii            42 \n",
       "Florida           29 \n",
       "Alaska            28 \n",
       "Nevada            25 \n",
       "Kentucky          22 \n",
       "North Dakota      19 \n",
       "Oregon            19 \n",
       "Arkansas          16 \n",
       "South Dakota      15 \n",
       "Indiana           15 \n",
       "South Carolina    8  \n",
       "New Mexico        8  \n",
       "Minnesota         7  \n",
       "Missouri          2  \n",
       "Michigan          2  \n",
       "Georgia           1  \n",
       "Name: state_name, dtype: int64"
      ]
     },
     "execution_count": 13,
     "metadata": {},
     "output_type": "execute_result"
    }
   ],
   "source": [
    "#Number of trails per state\n",
    "df['state_name'].value_counts()"
   ]
  },
  {
   "cell_type": "markdown",
   "metadata": {},
   "source": [
    "It looks like California has a large lead on number of trails. Quite a few states have no national parks and some have very few trails within theirs - somehow Georgia managed to only have one trail."
   ]
  },
  {
   "cell_type": "code",
   "execution_count": 14,
   "metadata": {},
   "outputs": [
    {
     "data": {
      "text/html": [
       "<div>\n",
       "<style scoped>\n",
       "    .dataframe tbody tr th:only-of-type {\n",
       "        vertical-align: middle;\n",
       "    }\n",
       "\n",
       "    .dataframe tbody tr th {\n",
       "        vertical-align: top;\n",
       "    }\n",
       "\n",
       "    .dataframe thead th {\n",
       "        text-align: right;\n",
       "    }\n",
       "</style>\n",
       "<table border=\"1\" class=\"dataframe\">\n",
       "  <thead>\n",
       "    <tr style=\"text-align: right;\">\n",
       "      <th></th>\n",
       "      <th>trail_id</th>\n",
       "      <th>name</th>\n",
       "      <th>area_name</th>\n",
       "      <th>city_name</th>\n",
       "      <th>state_name</th>\n",
       "      <th>country_name</th>\n",
       "      <th>_geoloc</th>\n",
       "      <th>popularity</th>\n",
       "      <th>length</th>\n",
       "      <th>elevation_gain</th>\n",
       "      <th>...</th>\n",
       "      <th>mountain-biking</th>\n",
       "      <th>trail-running</th>\n",
       "      <th>camping</th>\n",
       "      <th>fishing</th>\n",
       "      <th>snowshoeing</th>\n",
       "      <th>fly-fishing</th>\n",
       "      <th>backpacking</th>\n",
       "      <th>horseback-riding</th>\n",
       "      <th>rock-climbing</th>\n",
       "      <th>scenic-driving</th>\n",
       "    </tr>\n",
       "  </thead>\n",
       "  <tbody>\n",
       "    <tr>\n",
       "      <td>1219</td>\n",
       "      <td>10259207</td>\n",
       "      <td>Clayton County International Park Trail</td>\n",
       "      <td>Clayton Co International Park, Jonesboro GA</td>\n",
       "      <td>Jonesboro</td>\n",
       "      <td>Georgia</td>\n",
       "      <td>United States</td>\n",
       "      <td>{'lat': 33.5312, 'lng': -84.31568}</td>\n",
       "      <td>4.7291</td>\n",
       "      <td>2574.944</td>\n",
       "      <td>36.8808</td>\n",
       "      <td>...</td>\n",
       "      <td>1</td>\n",
       "      <td>1</td>\n",
       "      <td>0</td>\n",
       "      <td>0</td>\n",
       "      <td>0</td>\n",
       "      <td>0</td>\n",
       "      <td>0</td>\n",
       "      <td>0</td>\n",
       "      <td>0</td>\n",
       "      <td>0</td>\n",
       "    </tr>\n",
       "  </tbody>\n",
       "</table>\n",
       "<p>1 rows × 45 columns</p>\n",
       "</div>"
      ],
      "text/plain": [
       "      trail_id                                     name  \\\n",
       "1219  10259207  Clayton County International Park Trail   \n",
       "\n",
       "                                        area_name  city_name state_name  \\\n",
       "1219  Clayton Co International Park, Jonesboro GA  Jonesboro  Georgia     \n",
       "\n",
       "       country_name                             _geoloc  popularity    length  \\\n",
       "1219  United States  {'lat': 33.5312, 'lng': -84.31568}  4.7291      2574.944   \n",
       "\n",
       "      elevation_gain  ...  mountain-biking trail-running  camping  fishing  \\\n",
       "1219  36.8808         ...  1                1             0        0         \n",
       "\n",
       "      snowshoeing fly-fishing  backpacking  horseback-riding  rock-climbing  \\\n",
       "1219  0            0           0            0                 0               \n",
       "\n",
       "      scenic-driving  \n",
       "1219  0               \n",
       "\n",
       "[1 rows x 45 columns]"
      ]
     },
     "execution_count": 14,
     "metadata": {},
     "output_type": "execute_result"
    }
   ],
   "source": [
    "df.loc[df['state_name']=='Georgia']"
   ]
  },
  {
   "cell_type": "code",
   "execution_count": 15,
   "metadata": {
    "scrolled": true
   },
   "outputs": [],
   "source": [
    "df = df[df.state_name != 'Georgia']"
   ]
  },
  {
   "cell_type": "markdown",
   "metadata": {},
   "source": [
    "Upon further inspection the national park listed in Georgia is Clayton Co International Park, which is more of a local park/events space. Just to double check a quick web search confirms there are no national parks within the state (although still some great trails!). So Georgia was removed from the dataframe. Michigan and Missouri were also checked and are accurate. \n",
    "\n",
    "Fun fact: Missouri's Gateway Arch is the United State's smallest National Park."
   ]
  },
  {
   "cell_type": "code",
   "execution_count": 16,
   "metadata": {},
   "outputs": [
    {
     "data": {
      "image/png": "[encoded data removed]",
      "text/plain": [
       "<Figure size 432x288 with 1 Axes>"
      ]
     },
     "metadata": {
      "needs_background": "light"
     },
     "output_type": "display_data"
    }
   ],
   "source": [
    "#take a look at trail lengths\n",
    "df.length.plot(kind='box')\n",
    "plt.show()"
   ]
  },
  {
   "cell_type": "markdown",
   "metadata": {},
   "source": [
    "Almost all of the trails are under ~200000 meters (about 120 miles). Let's look at the outliers."
   ]
  },
  {
   "cell_type": "code",
   "execution_count": 17,
   "metadata": {},
   "outputs": [
    {
     "data": {
      "text/html": [
       "<div>\n",
       "<style scoped>\n",
       "    .dataframe tbody tr th:only-of-type {\n",
       "        vertical-align: middle;\n",
       "    }\n",
       "\n",
       "    .dataframe tbody tr th {\n",
       "        vertical-align: top;\n",
       "    }\n",
       "\n",
       "    .dataframe thead th {\n",
       "        text-align: right;\n",
       "    }\n",
       "</style>\n",
       "<table border=\"1\" class=\"dataframe\">\n",
       "  <thead>\n",
       "    <tr style=\"text-align: right;\">\n",
       "      <th></th>\n",
       "      <th>trail_id</th>\n",
       "      <th>name</th>\n",
       "      <th>area_name</th>\n",
       "      <th>city_name</th>\n",
       "      <th>state_name</th>\n",
       "      <th>country_name</th>\n",
       "      <th>_geoloc</th>\n",
       "      <th>popularity</th>\n",
       "      <th>length</th>\n",
       "      <th>elevation_gain</th>\n",
       "      <th>...</th>\n",
       "      <th>mountain-biking</th>\n",
       "      <th>trail-running</th>\n",
       "      <th>camping</th>\n",
       "      <th>fishing</th>\n",
       "      <th>snowshoeing</th>\n",
       "      <th>fly-fishing</th>\n",
       "      <th>backpacking</th>\n",
       "      <th>horseback-riding</th>\n",
       "      <th>rock-climbing</th>\n",
       "      <th>scenic-driving</th>\n",
       "    </tr>\n",
       "  </thead>\n",
       "  <tbody>\n",
       "    <tr>\n",
       "      <td>2753</td>\n",
       "      <td>10040050</td>\n",
       "      <td>Olympic Peninsula Loop Drive</td>\n",
       "      <td>Olympic National Park</td>\n",
       "      <td>Olympia</td>\n",
       "      <td>Washington</td>\n",
       "      <td>United States</td>\n",
       "      <td>{'lat': 47.02164, 'lng': -122.90689}</td>\n",
       "      <td>9.9486</td>\n",
       "      <td>529794.728</td>\n",
       "      <td>5096.8656</td>\n",
       "      <td>...</td>\n",
       "      <td>0</td>\n",
       "      <td>0</td>\n",
       "      <td>1</td>\n",
       "      <td>1</td>\n",
       "      <td>0</td>\n",
       "      <td>0</td>\n",
       "      <td>0</td>\n",
       "      <td>0</td>\n",
       "      <td>0</td>\n",
       "      <td>1</td>\n",
       "    </tr>\n",
       "  </tbody>\n",
       "</table>\n",
       "<p>1 rows × 45 columns</p>\n",
       "</div>"
      ],
      "text/plain": [
       "      trail_id                          name              area_name city_name  \\\n",
       "2753  10040050  Olympic Peninsula Loop Drive  Olympic National Park  Olympia    \n",
       "\n",
       "      state_name   country_name                               _geoloc  \\\n",
       "2753  Washington  United States  {'lat': 47.02164, 'lng': -122.90689}   \n",
       "\n",
       "      popularity      length  elevation_gain  ...  mountain-biking  \\\n",
       "2753  9.9486      529794.728  5096.8656       ...  0                 \n",
       "\n",
       "     trail-running  camping  fishing  snowshoeing fly-fishing  backpacking  \\\n",
       "2753  0             1        1        0            0           0             \n",
       "\n",
       "      horseback-riding  rock-climbing  scenic-driving  \n",
       "2753  0                 0              1               \n",
       "\n",
       "[1 rows x 45 columns]"
      ]
     },
     "execution_count": 17,
     "metadata": {},
     "output_type": "execute_result"
    }
   ],
   "source": [
    "df.loc[df['name'] == 'Olympic Peninsula Loop Drive']"
   ]
  },
  {
   "cell_type": "markdown",
   "metadata": {},
   "source": [
    "The biggest outlier is a trail in Washington which is a driving loop around the Olympic Peninsula that is over 300 miles long."
   ]
  },
  {
   "cell_type": "code",
   "execution_count": 18,
   "metadata": {},
   "outputs": [
    {
     "data": {
      "text/plain": [
       "1166"
      ]
     },
     "execution_count": 18,
     "metadata": {},
     "output_type": "execute_result"
    }
   ],
   "source": [
    "trail_count = df.loc[df['length'] > 14999].count()\n",
    "trail_count['trail_id']"
   ]
  },
  {
   "cell_type": "markdown",
   "metadata": {},
   "source": [
    "While the scale goes well over 500,000 (meters), theres only 191 entries that are longer than 50,000; about 28 miles. Over a third of the 3059 trails are shorter than 15,000, equivelant to 9 miles. Looking at the other end of the spectrum there are some entries less than a tenth of a mile long, and even one listed at 0."
   ]
  },
  {
   "cell_type": "code",
   "execution_count": 19,
   "metadata": {},
   "outputs": [
    {
     "data": {
      "text/html": [
       "<div>\n",
       "<style scoped>\n",
       "    .dataframe tbody tr th:only-of-type {\n",
       "        vertical-align: middle;\n",
       "    }\n",
       "\n",
       "    .dataframe tbody tr th {\n",
       "        vertical-align: top;\n",
       "    }\n",
       "\n",
       "    .dataframe thead th {\n",
       "        text-align: right;\n",
       "    }\n",
       "</style>\n",
       "<table border=\"1\" class=\"dataframe\">\n",
       "  <thead>\n",
       "    <tr style=\"text-align: right;\">\n",
       "      <th></th>\n",
       "      <th>trail_id</th>\n",
       "      <th>name</th>\n",
       "      <th>area_name</th>\n",
       "      <th>city_name</th>\n",
       "      <th>state_name</th>\n",
       "      <th>country_name</th>\n",
       "      <th>_geoloc</th>\n",
       "      <th>popularity</th>\n",
       "      <th>length</th>\n",
       "      <th>elevation_gain</th>\n",
       "      <th>...</th>\n",
       "      <th>mountain-biking</th>\n",
       "      <th>trail-running</th>\n",
       "      <th>camping</th>\n",
       "      <th>fishing</th>\n",
       "      <th>snowshoeing</th>\n",
       "      <th>fly-fishing</th>\n",
       "      <th>backpacking</th>\n",
       "      <th>horseback-riding</th>\n",
       "      <th>rock-climbing</th>\n",
       "      <th>scenic-driving</th>\n",
       "    </tr>\n",
       "  </thead>\n",
       "  <tbody>\n",
       "    <tr>\n",
       "      <td>2339</td>\n",
       "      <td>10333504</td>\n",
       "      <td>Newspaper Rock Trail</td>\n",
       "      <td>Canyonlands National Park</td>\n",
       "      <td>Monticello</td>\n",
       "      <td>Utah</td>\n",
       "      <td>United States</td>\n",
       "      <td>{'lat': 37.98819, 'lng': -109.51825}</td>\n",
       "      <td>5.6874</td>\n",
       "      <td>0.000</td>\n",
       "      <td>0.0000</td>\n",
       "      <td>...</td>\n",
       "      <td>0</td>\n",
       "      <td>0</td>\n",
       "      <td>0</td>\n",
       "      <td>0</td>\n",
       "      <td>0</td>\n",
       "      <td>0</td>\n",
       "      <td>0</td>\n",
       "      <td>0</td>\n",
       "      <td>0</td>\n",
       "      <td>0</td>\n",
       "    </tr>\n",
       "    <tr>\n",
       "      <td>177</td>\n",
       "      <td>10258658</td>\n",
       "      <td>Walhalla Ruins</td>\n",
       "      <td>Grand Canyon National Park</td>\n",
       "      <td>North Rim</td>\n",
       "      <td>Arizona</td>\n",
       "      <td>United States</td>\n",
       "      <td>{'lat': 36.13336, 'lng': -111.94147}</td>\n",
       "      <td>2.7978</td>\n",
       "      <td>160.934</td>\n",
       "      <td>0.0000</td>\n",
       "      <td>...</td>\n",
       "      <td>0</td>\n",
       "      <td>0</td>\n",
       "      <td>0</td>\n",
       "      <td>0</td>\n",
       "      <td>0</td>\n",
       "      <td>0</td>\n",
       "      <td>0</td>\n",
       "      <td>0</td>\n",
       "      <td>0</td>\n",
       "      <td>0</td>\n",
       "    </tr>\n",
       "    <tr>\n",
       "      <td>1139</td>\n",
       "      <td>10328659</td>\n",
       "      <td>Sunset View Trail</td>\n",
       "      <td>Black Canyon of the Gunnison National Park</td>\n",
       "      <td>Montrose</td>\n",
       "      <td>Colorado</td>\n",
       "      <td>United States</td>\n",
       "      <td>{'lat': 38.56876, 'lng': -107.73352}</td>\n",
       "      <td>4.4651</td>\n",
       "      <td>160.934</td>\n",
       "      <td>0.9144</td>\n",
       "      <td>...</td>\n",
       "      <td>0</td>\n",
       "      <td>0</td>\n",
       "      <td>0</td>\n",
       "      <td>0</td>\n",
       "      <td>0</td>\n",
       "      <td>0</td>\n",
       "      <td>0</td>\n",
       "      <td>0</td>\n",
       "      <td>0</td>\n",
       "      <td>0</td>\n",
       "    </tr>\n",
       "  </tbody>\n",
       "</table>\n",
       "<p>3 rows × 45 columns</p>\n",
       "</div>"
      ],
      "text/plain": [
       "      trail_id                  name  \\\n",
       "2339  10333504  Newspaper Rock Trail   \n",
       "177   10258658  Walhalla Ruins         \n",
       "1139  10328659  Sunset View Trail      \n",
       "\n",
       "                                       area_name   city_name state_name  \\\n",
       "2339  Canyonlands National Park                   Monticello  Utah        \n",
       "177   Grand Canyon National Park                  North Rim   Arizona     \n",
       "1139  Black Canyon of the Gunnison National Park  Montrose    Colorado    \n",
       "\n",
       "       country_name                               _geoloc  popularity  \\\n",
       "2339  United States  {'lat': 37.98819, 'lng': -109.51825}  5.6874       \n",
       "177   United States  {'lat': 36.13336, 'lng': -111.94147}  2.7978       \n",
       "1139  United States  {'lat': 38.56876, 'lng': -107.73352}  4.4651       \n",
       "\n",
       "       length  elevation_gain  ...  mountain-biking trail-running  camping  \\\n",
       "2339  0.000    0.0000          ...  0                0             0         \n",
       "177   160.934  0.0000          ...  0                0             0         \n",
       "1139  160.934  0.9144          ...  0                0             0         \n",
       "\n",
       "      fishing  snowshoeing fly-fishing  backpacking  horseback-riding  \\\n",
       "2339  0        0            0           0            0                  \n",
       "177   0        0            0           0            0                  \n",
       "1139  0        0            0           0            0                  \n",
       "\n",
       "      rock-climbing  scenic-driving  \n",
       "2339  0              0               \n",
       "177   0              0               \n",
       "1139  0              0               \n",
       "\n",
       "[3 rows x 45 columns]"
      ]
     },
     "execution_count": 19,
     "metadata": {},
     "output_type": "execute_result"
    }
   ],
   "source": [
    "df_length = df.sort_values('length')\n",
    "df_length.head(3)"
   ]
  },
  {
   "cell_type": "markdown",
   "metadata": {},
   "source": [
    "Newspaper Rock Trail has a length of 0. After looking it up it appears to be a large rock that doesn't really require any hiking at all (but is covered in Indian Petroglyphs (carvings))."
   ]
  },
  {
   "cell_type": "markdown",
   "metadata": {},
   "source": [
    "Let's take a look at elevation gain as it likely has a large factor in trail difficulty and in turn can affect trail choice by consumers."
   ]
  },
  {
   "cell_type": "code",
   "execution_count": 20,
   "metadata": {},
   "outputs": [
    {
     "data": {
      "image/png": "[encoded data removed]",
      "text/plain": [
       "<Figure size 432x288 with 1 Axes>"
      ]
     },
     "metadata": {
      "needs_background": "light"
     },
     "output_type": "display_data"
    }
   ],
   "source": [
    "df.elevation_gain.plot(kind='box')\n",
    "plt.show()"
   ]
  },
  {
   "cell_type": "code",
   "execution_count": 21,
   "metadata": {},
   "outputs": [
    {
     "data": {
      "image/png": "[encoded data removed]",
      "text/plain": [
       "<Figure size 432x288 with 1 Axes>"
      ]
     },
     "metadata": {
      "needs_background": "light"
     },
     "output_type": "display_data"
    }
   ],
   "source": [
    "df.num_reviews.plot(kind='box')\n",
    "plt.show()"
   ]
  },
  {
   "cell_type": "markdown",
   "metadata": {},
   "source": [
    "This graph gives great insight into what trails are used the most (regardless of a positive or negative review). Let's take a look at number of reviews vs trail length."
   ]
  },
  {
   "cell_type": "code",
   "execution_count": 22,
   "metadata": {},
   "outputs": [
    {
     "data": {
      "text/plain": [
       "<matplotlib.axes._subplots.AxesSubplot at 0x1daac207e88>"
      ]
     },
     "execution_count": 22,
     "metadata": {},
     "output_type": "execute_result"
    },
    {
     "data": {
      "image/png": "[encoded data removed]",
      "text/plain": [
       "<Figure size 432x288 with 1 Axes>"
      ]
     },
     "metadata": {
      "needs_background": "light"
     },
     "output_type": "display_data"
    }
   ],
   "source": [
    "df.plot(kind='scatter', x='length', y='num_reviews')"
   ]
  },
  {
   "cell_type": "markdown",
   "metadata": {},
   "source": [
    "This gives us a good look at trail usage even without the visitor_usage column."
   ]
  },
  {
   "cell_type": "code",
   "execution_count": 23,
   "metadata": {},
   "outputs": [
    {
     "data": {
      "image/png": "[encoded data removed]",
      "text/plain": [
       "<Figure size 432x288 with 1 Axes>"
      ]
     },
     "metadata": {
      "needs_background": "light"
     },
     "output_type": "display_data"
    }
   ],
   "source": [
    "df.plot(kind='scatter', x='avg_rating', y='num_reviews')\n",
    "plt.title('Number of Reviews vs Average Rating')\n",
    "plt.xlabel('Average Rating')\n",
    "plt.ylabel('Number of Reviews')\n",
    "plt.show()"
   ]
  },
  {
   "cell_type": "markdown",
   "metadata": {},
   "source": [
    "Not surprisingly, the number of reviews increases with average ratings. When a trail receives higher ratings more people are interested in using that trail and it continues to become more and more popular, getting more reviews and good ratings.\n",
    "\n",
    "\n",
    "Having seen how these three variables correlate with each other (positively), I'm interested to see how each feature / activity affects each one and if there are any differences with how they compare when looking at specific features."
   ]
  },
  {
   "cell_type": "code",
   "execution_count": 24,
   "metadata": {},
   "outputs": [
    {
     "data": {
      "image/png": "[encoded data removed]",
      "text/plain": [
       "<Figure size 432x288 with 1 Axes>"
      ]
     },
     "metadata": {
      "needs_background": "light"
     },
     "output_type": "display_data"
    }
   ],
   "source": [
    "plt.hist(df.avg_rating)\n",
    "plt.xlabel('Trail Rating')\n",
    "plt.ylabel('Number of Trails')\n",
    "plt.show()"
   ]
  },
  {
   "cell_type": "markdown",
   "metadata": {},
   "source": [
    "The above histogram is interesting to me because it shows that users either love or strongly dislike a trail (or a strong feeling either way motivates them to rate a trail while if it was maybe \"just okay\" they dont bother giving it a rating)."
   ]
  },
  {
   "cell_type": "markdown",
   "metadata": {},
   "source": [
    "# Inferential Statistical Analysis"
   ]
  },
  {
   "cell_type": "markdown",
   "metadata": {},
   "source": [
    "In this sections we'll use frequentist statistical inference techniques to analyze the national park data, specifically ..."
   ]
  },
  {
   "cell_type": "markdown",
   "metadata": {},
   "source": [
    "Null hypothesis: The average rating for California's trails are equal to those of Washington's\n",
    "\n",
    "Alternative: The average ratings are not equal\n",
    "\n",
    "Using an alpha of 5%, this two-tailed test will have a z-score of 1.96"
   ]
  },
  {
   "cell_type": "code",
   "execution_count": 25,
   "metadata": {},
   "outputs": [],
   "source": [
    "#create variables to use for z testing\n",
    "CA_mean = np.mean(df.loc[df['state_name'] == 'California'].avg_rating)\n",
    "CA_sqrt_samp = np.sqrt(len(df.loc[df['state_name'] == 'California']))\n",
    "WA_mean = np.mean(df.loc[df['state_name'] == 'Washington'].avg_rating)\n",
    "WA_std = np.std(df.loc[df['state_name'] == 'Washington'].avg_rating)"
   ]
  },
  {
   "cell_type": "code",
   "execution_count": 26,
   "metadata": {},
   "outputs": [
    {
     "data": {
      "text/plain": [
       "-11.285611232414636"
      ]
     },
     "execution_count": 26,
     "metadata": {},
     "output_type": "execute_result"
    }
   ],
   "source": [
    "#perform test\n",
    "z_test1 = (CA_mean - WA_mean) / (WA_std / CA_sqrt_samp)\n",
    "z_test1"
   ]
  },
  {
   "cell_type": "markdown",
   "metadata": {},
   "source": [
    "The calculated z-score is -11.29 which is far to the left of our distribution and strongly recommends the null hypothesis to be rejected. This means that the average rating for California's trails are not equal to those of Washington's."
   ]
  },
  {
   "cell_type": "code",
   "execution_count": 27,
   "metadata": {},
   "outputs": [
    {
     "name": "stdout",
     "output_type": "stream",
     "text": [
      "The Margin of Error (MOE) is: 4.41%\n"
     ]
    }
   ],
   "source": [
    "#calculate margin of error\n",
    "SE = WA_std / (CA_sqrt_samp)\n",
    "MOE = 1.96 * SE\n",
    "print(f\"The Margin of Error (MOE) is: {MOE*100:.2f}%\")"
   ]
  },
  {
   "cell_type": "markdown",
   "metadata": {},
   "source": [
    "The margin of error (MOE) is 4.41% meaning that the calculated z statistic will be within 4.41 percentage points of the real population 95% of the time."
   ]
  },
  {
   "cell_type": "markdown",
   "metadata": {},
   "source": [
    "Next, let's run a hypothesis test on popularity and elevation gain. \n",
    "\n",
    "Null hypothesis: Elevation gain has no effect on trail popularity\n",
    "\n",
    "Alternative: Elevation gain has a positive or negative effect on trail popularity"
   ]
  },
  {
   "cell_type": "code",
   "execution_count": 28,
   "metadata": {},
   "outputs": [],
   "source": [
    "#create variables to use for t and p-value tests\n",
    "ele_gain_mean = np.mean(df.elevation_gain)\n",
    "ele_gain_std = np.std(df.elevation_gain)\n",
    "trail_pop_mean = np.mean(df.popularity)\n",
    "trail_pop_std = np.std(df.popularity)"
   ]
  },
  {
   "cell_type": "code",
   "execution_count": 29,
   "metadata": {
    "scrolled": true
   },
   "outputs": [
    {
     "data": {
      "text/plain": [
       "Ttest_indResult(statistic=39.687236954266744, pvalue=1.025685599972489e-306)"
      ]
     },
     "execution_count": 29,
     "metadata": {},
     "output_type": "execute_result"
    }
   ],
   "source": [
    "#ttest_ind_from_stats(mean1, std1, nobs1, mean2, std2, nobs2, equal_var=True)\n",
    "ttest_ind_from_stats(ele_gain_mean, ele_gain_std, 3060, trail_pop_mean, trail_pop_std, 3060, equal_var=True)"
   ]
  },
  {
   "cell_type": "markdown",
   "metadata": {},
   "source": [
    "The t stat is 39.68 indicating that elevation gain has a strong effect on trail popularity. The p-value is far below the alpha (1.36e-306) supporting a rejection of the null hypothesis. A similar test and results can be ran with elevation gain and difficulty as well as shown below - as expected elevation gain has a significant affect on a trail's difficulty rating."
   ]
  },
  {
   "cell_type": "code",
   "execution_count": 30,
   "metadata": {},
   "outputs": [
    {
     "data": {
      "text/plain": [
       "Ttest_indResult(statistic=40.06794036300369, pvalue=0.0)"
      ]
     },
     "execution_count": 30,
     "metadata": {},
     "output_type": "execute_result"
    }
   ],
   "source": [
    "ttest_ind_from_stats(ele_gain_mean, ele_gain_std, 3060, np.mean(df.difficulty_rating), np.std(df.difficulty_rating), 3060, equal_var=True)"
   ]
  },
  {
   "cell_type": "markdown",
   "metadata": {},
   "source": [
    "# Correlation Heatmap "
   ]
  },
  {
   "cell_type": "code",
   "execution_count": 31,
   "metadata": {},
   "outputs": [],
   "source": [
    "#create dataframe without categories to use for a heatmap\n",
    "df_no_cats = df[['popularity', 'visitor_usage', 'avg_rating','num_reviews', \n",
    "        'difficulty_rating', 'length', 'elevation_gain',\n",
    "       'forest', 'river', 'no-dogs', 'leash-dogs',\n",
    "       'views', 'waterfall', 'wildlife', 'wild-flowers', 'lake', 'beach',\n",
    "       'paved', 'kids', 'partially-paved', 'cave', 'strollers', 'birding',\n",
    "       'hiking', 'nature-trips', 'walking', 'mountain-biking', 'trail-running',\n",
    "       'camping', 'fishing', 'snowshoeing', 'fly-fishing', 'backpacking',\n",
    "       'horseback-riding', 'rock-climbing', 'scenic-driving']].fillna(0)"
   ]
  },
  {
   "cell_type": "code",
   "execution_count": 32,
   "metadata": {
    "scrolled": false
   },
   "outputs": [
    {
     "data": {
      "text/plain": [
       "<matplotlib.axes._subplots.AxesSubplot at 0x1daac0430c8>"
      ]
     },
     "execution_count": 32,
     "metadata": {},
     "output_type": "execute_result"
    },
    {
     "data": {
      "image/png": "[encoded data removed]",
      "text/plain": [
       "<Figure size 792x648 with 2 Axes>"
      ]
     },
     "metadata": {
      "needs_background": "light"
     },
     "output_type": "display_data"
    }
   ],
   "source": [
    "#use seaborns to make a heatmap of all numerical columns\n",
    "corr = df_no_cats.corr()\n",
    "\n",
    "mask = np.triu(np.ones_like(corr, dtype=np.bool))\n",
    "\n",
    "f, ax = plt.subplots(figsize=(11,9))\n",
    "\n",
    "cmap = sns.diverging_palette(220, 10, as_cmap=True)\n",
    "\n",
    "sns.heatmap(corr, mask=mask, cmap=cmap, vmax=.3, center=0, square=True, linewidths=.5, cbar_kws={'shrink': .5})"
   ]
  },
  {
   "cell_type": "markdown",
   "metadata": {},
   "source": [
    "This gives a fantastic quick view of how each variable affects the others. The first four columns are the main ones of interest, but there are many significant correlations that are noteworthy. Difficulty rating seems to have some of the strongest negative and positive correlations with other trail features."
   ]
  },
  {
   "cell_type": "markdown",
   "metadata": {},
   "source": [
    "# Machine Learning Models\n",
    "\n",
    "The following cells are working to predict ratings of trails using various classification models. The average rating column will be converted from its 0-5 scale to a binary/boolean scale. '0' will represent the low ratings from 0 to 3.5 while '1' will represent the high ratings from 4 to 5."
   ]
  },
  {
   "cell_type": "code",
   "execution_count": 33,
   "metadata": {},
   "outputs": [],
   "source": [
    "#create dataframe for use with machine learning models\n",
    "df_ml = df.copy()\n",
    "\n",
    "#create separate columns for route types so they can be used in the prediction\n",
    "df_ml['loop'] = df_ml['route_type'].apply(lambda x: 1 if 'loop' in x else 0)\n",
    "df_ml['out&back'] = df_ml['route_type'].apply(lambda x: 1 if 'out and back' in x else 0)\n",
    "\n",
    "#get rid of the route_type column\n",
    "df_ml.drop('route_type', axis=1, inplace=True)\n",
    "\n",
    "#convert avg_ratings column to boolean values for low (0) and high (1) ratings\n",
    "df_ml['avg_rating_bi'] = df_ml['avg_rating'].apply(lambda x: 1 if x >= 4 else 0)\n",
    "\n",
    "#create array to use as predictor columns in regression models\n",
    "#taking out area_name, and state_name (may revisit with one-hot encoding)\n",
    "X = df_ml.loc(axis=1)['trail_id',\n",
    "       'popularity', 'length', 'elevation_gain',\n",
    "       'difficulty_rating', 'visitor_usage',\n",
    "       'num_reviews', 'forest', 'river', 'no-dogs', 'leash-dogs',\n",
    "       'views', 'waterfall', 'wildlife', 'wild-flowers', 'lake', 'beach',\n",
    "       'paved', 'kids', 'partially-paved', 'cave', 'strollers', 'birding',\n",
    "       'hiking', 'nature-trips', 'walking', 'mountain-biking', 'trail-running',\n",
    "       'camping', 'fishing', 'snowshoeing', 'fly-fishing', 'backpacking',\n",
    "       'horseback-riding', 'rock-climbing', 'scenic-driving', 'loop', 'out&back'].values\n",
    "\n",
    "#values to be predicted\n",
    "y = df_ml.loc(axis=1)['avg_rating_bi'].values"
   ]
  },
  {
   "cell_type": "code",
   "execution_count": 34,
   "metadata": {},
   "outputs": [],
   "source": [
    "#split data into training and testing data\n",
    "X_train, X_test, y_train, y_test = train_test_split(X, y, test_size=.3, random_state=5)\n",
    "\n",
    "#data scaling to standardize values to normal distributions\n",
    "scaling = MinMaxScaler(feature_range=(-1,1)).fit(X_train)\n",
    "X_train = scaling.transform(X_train)\n",
    "X_test = scaling.transform(X_test)"
   ]
  },
  {
   "cell_type": "code",
   "execution_count": 35,
   "metadata": {},
   "outputs": [],
   "source": [
    "#create function for showing model confusion matrix and metrics\n",
    " \n",
    "#accuracy\n",
    "def acc_metrics(y_test, y_pred):\n",
    "    print(confusion_matrix(y_test,y_pred))\n",
    "    print(classification_report(y_test,y_pred))\n",
    "    print(accuracy_score(y_test, y_pred))"
   ]
  },
  {
   "cell_type": "markdown",
   "metadata": {},
   "source": [
    "### Quick overview of different models\n",
    "Box and whisker plot of various classifiers' out of box accuracies"
   ]
  },
  {
   "cell_type": "code",
   "execution_count": 36,
   "metadata": {},
   "outputs": [],
   "source": [
    "#loops through all models in a list to caclulate its out of box accuracy\n",
    "\n",
    "#create list of models with names\n",
    "models = []\n",
    "models.append(('LR', LogisticRegression()))\n",
    "models.append(('LDA', LinearDiscriminantAnalysis()))\n",
    "models.append(('KNN', KNeighborsClassifier()))\n",
    "models.append(('CART', DecisionTreeClassifier()))\n",
    "models.append(('NB', GaussianNB()))\n",
    "models.append(('RF', RandomForestClassifier()))\n",
    "models.append(('SVC', LinearSVC()))\n",
    "\n",
    "# evaluate each model\n",
    "results = []\n",
    "names = []\n",
    "scoring = 'accuracy'\n",
    "msgs = []\n",
    "@ignore_warnings(category=ConvergenceWarning)\n",
    "def scores_list():\n",
    "    for name, model in models:\n",
    "        kfold = KFold(n_splits=10, random_state=5, shuffle=True)\n",
    "        cv_results = cross_val_score(model, X, y, cv=kfold, scoring=scoring)\n",
    "        results.append(cv_results)\n",
    "        names.append(name)\n",
    "        msg = \"%s: %f (%f)\" % (name, cv_results.mean(), cv_results.std())\n",
    "        msgs.append(msg)\n",
    "scores_list()"
   ]
  },
  {
   "cell_type": "code",
   "execution_count": 37,
   "metadata": {},
   "outputs": [
    {
     "data": {
      "image/png": "[encoded data removed]",
      "text/plain": [
       "<Figure size 432x288 with 1 Axes>"
      ]
     },
     "metadata": {
      "needs_background": "light"
     },
     "output_type": "display_data"
    }
   ],
   "source": [
    "#plot model accuracies with a box plot\n",
    "# boxplot algorithm comparison\n",
    "plt.rcParams.update({'font.size': 14})\n",
    "plt.rc('xtick', labelsize=12)\n",
    "plt.rc('ytick', labelsize=12)\n",
    "\n",
    "fig = plt.figure()\n",
    "fig.suptitle('Algorithm Comparison')\n",
    "ax = fig.add_subplot(111)\n",
    "plt.boxplot(results)\n",
    "ax.set_xticklabels(names)\n",
    "plt.show()"
   ]
  },
  {
   "cell_type": "markdown",
   "metadata": {},
   "source": [
    "Continue analysis with random forest, support vector machine, and logistic regression models."
   ]
  },
  {
   "cell_type": "markdown",
   "metadata": {},
   "source": [
    "### Random Forest Classifier Model"
   ]
  },
  {
   "cell_type": "code",
   "execution_count": 38,
   "metadata": {},
   "outputs": [
    {
     "name": "stdout",
     "output_type": "stream",
     "text": [
      "[[ 59  57]\n",
      " [ 29 773]]\n",
      "              precision    recall  f1-score   support\n",
      "\n",
      "           0       0.67      0.51      0.58       116\n",
      "           1       0.93      0.96      0.95       802\n",
      "\n",
      "    accuracy                           0.91       918\n",
      "   macro avg       0.80      0.74      0.76       918\n",
      "weighted avg       0.90      0.91      0.90       918\n",
      "\n",
      "0.906318082788671\n"
     ]
    }
   ],
   "source": [
    "#initiate classifier, fit, predict, and print confusion matrix & metrics\n",
    "rf_reg = RandomForestClassifier(random_state=5)\n",
    "rf_reg.fit(X_train, y_train)\n",
    "rf_y_pred = rf_reg.predict(X_test)\n",
    "\n",
    "acc_metrics(y_test, rf_y_pred)\n",
    "\n",
    "#for later visualization\n",
    "rf_cf = confusion_matrix(y_test, rf_y_pred)"
   ]
  },
  {
   "cell_type": "markdown",
   "metadata": {},
   "source": [
    "Random forest accuracy = 90.63%"
   ]
  },
  {
   "cell_type": "markdown",
   "metadata": {},
   "source": [
    "### Support Vector Machine Model Predictor"
   ]
  },
  {
   "cell_type": "code",
   "execution_count": 39,
   "metadata": {
    "scrolled": true
   },
   "outputs": [
    {
     "name": "stdout",
     "output_type": "stream",
     "text": [
      "[[ 17  99]\n",
      " [ 13 789]]\n",
      "              precision    recall  f1-score   support\n",
      "\n",
      "           0       0.57      0.15      0.23       116\n",
      "           1       0.89      0.98      0.93       802\n",
      "\n",
      "    accuracy                           0.88       918\n",
      "   macro avg       0.73      0.57      0.58       918\n",
      "weighted avg       0.85      0.88      0.85       918\n",
      "\n",
      "0.8779956427015251\n"
     ]
    }
   ],
   "source": [
    "#initiate classifier, fit, predict, and print confusion matrix & metrics\n",
    "svc = LinearSVC(random_state=5)\n",
    "svc.fit(X_train, y_train)\n",
    "svm_y_pred = svc.predict(X_test)\n",
    "\n",
    "acc_metrics(y_test, svm_y_pred)\n",
    "\n",
    "#for later visualization\n",
    "svm_cf = confusion_matrix(y_test, svm_y_pred)"
   ]
  },
  {
   "cell_type": "markdown",
   "metadata": {},
   "source": [
    "Support vector machine accuracy = 87.8%"
   ]
  },
  {
   "cell_type": "markdown",
   "metadata": {},
   "source": [
    "### Logistic Regression Model"
   ]
  },
  {
   "cell_type": "code",
   "execution_count": 40,
   "metadata": {
    "scrolled": true
   },
   "outputs": [
    {
     "name": "stdout",
     "output_type": "stream",
     "text": [
      "[[  3 113]\n",
      " [  5 797]]\n",
      "              precision    recall  f1-score   support\n",
      "\n",
      "           0       0.38      0.03      0.05       116\n",
      "           1       0.88      0.99      0.93       802\n",
      "\n",
      "    accuracy                           0.87       918\n",
      "   macro avg       0.63      0.51      0.49       918\n",
      "weighted avg       0.81      0.87      0.82       918\n",
      "\n",
      "0.8714596949891068\n"
     ]
    }
   ],
   "source": [
    "log_reg = LogisticRegression(random_state=5)\n",
    "log_reg.fit(X_train, y_train)\n",
    "lr_y_pred = log_reg.predict(X_test)\n",
    "\n",
    "acc_metrics(y_test, lr_y_pred)\n",
    "\n",
    "#for later visualization\n",
    "lr_cf = confusion_matrix(y_test, lr_y_pred)"
   ]
  },
  {
   "cell_type": "markdown",
   "metadata": {},
   "source": [
    "Logistic regression accuracy = 87.15%"
   ]
  },
  {
   "cell_type": "markdown",
   "metadata": {},
   "source": [
    "## Tuning the parameters for models\n",
    "Using Gridsearch CV find the optimal parameters for each model to find the best combination and most accurate."
   ]
  },
  {
   "cell_type": "markdown",
   "metadata": {},
   "source": [
    "### GridSearch for Random Forest Classifier "
   ]
  },
  {
   "cell_type": "code",
   "execution_count": 41,
   "metadata": {},
   "outputs": [
    {
     "name": "stdout",
     "output_type": "stream",
     "text": [
      "GridSearchCV(cv=5, error_score='raise-deprecating',\n",
      "             estimator=RandomForestClassifier(bootstrap=True, class_weight=None,\n",
      "                                              criterion='gini', max_depth=None,\n",
      "                                              max_features='auto',\n",
      "                                              max_leaf_nodes=None,\n",
      "                                              min_impurity_decrease=0.0,\n",
      "                                              min_impurity_split=None,\n",
      "                                              min_samples_leaf=1,\n",
      "                                              min_samples_split=2,\n",
      "                                              min_weight_fraction_leaf=0.0,\n",
      "                                              n_estimators='warn', n_jobs=None,\n",
      "                                              oob_score=False, random_state=5,\n",
      "                                              verbose=0, warm_start=False),\n",
      "             iid='warn', n_jobs=None,\n",
      "             param_grid={'criterion': array(['gini', 'entropy'], dtype='<U7'),\n",
      "                         'max_depth': array([ 1,  3,  5,  7, 10, 15]),\n",
      "                         'n_estimators': array([  1,  10,  25,  50, 100, 200])},\n",
      "             pre_dispatch='2*n_jobs', refit=True, return_train_score=False,\n",
      "             scoring=None, verbose=0)\n",
      "0.9070527790751985\n",
      "RandomForestClassifier(bootstrap=True, class_weight=None, criterion='gini',\n",
      "                       max_depth=10, max_features='auto', max_leaf_nodes=None,\n",
      "                       min_impurity_decrease=0.0, min_impurity_split=None,\n",
      "                       min_samples_leaf=1, min_samples_split=2,\n",
      "                       min_weight_fraction_leaf=0.0, n_estimators=200,\n",
      "                       n_jobs=None, oob_score=False, random_state=5, verbose=0,\n",
      "                       warm_start=False)\n"
     ]
    }
   ],
   "source": [
    "#create arrays for ranges of parameters to attempt\n",
    "forest = np.array([1, 10, 25, 50, 100, 200])\n",
    "depth = np.array([1, 3, 5, 7, 10, 15])\n",
    "crit = np.array(['gini', 'entropy'])\n",
    "\n",
    "#initiate gridsearch\n",
    "grid_rf = GridSearchCV(estimator= RandomForestClassifier(random_state=5), \n",
    "                       param_grid={'n_estimators': forest, 'max_depth': depth, 'criterion':crit}, cv=5)\n",
    "#fit and print\n",
    "grid_rf.fit(X_train, y_train)\n",
    "print(grid_rf)\n",
    "print(grid_rf.best_score_)\n",
    "print(grid_rf.best_estimator_)\n",
    "\n",
    "#for later visualization\n",
    "grid_rf_y_pred = grid_rf.best_estimator_.predict(X_test)\n",
    "rfgrid_cf = confusion_matrix(y_test, grid_rf_y_pred)"
   ]
  },
  {
   "cell_type": "markdown",
   "metadata": {},
   "source": [
    "### GridSearch for Support Vector Machine"
   ]
  },
  {
   "cell_type": "code",
   "execution_count": 42,
   "metadata": {},
   "outputs": [
    {
     "name": "stdout",
     "output_type": "stream",
     "text": [
      "GridSearchCV(cv=5, error_score='raise-deprecating',\n",
      "             estimator=LinearSVC(C=1.0, class_weight=None, dual=False,\n",
      "                                 fit_intercept=True, intercept_scaling=1,\n",
      "                                 loss='squared_hinge', max_iter=1000,\n",
      "                                 multi_class='ovr', penalty='l2',\n",
      "                                 random_state=5, tol=0.0001, verbose=0),\n",
      "             iid='warn', n_jobs=None,\n",
      "             param_grid={'C': array([ 1,  2,  3,  4,  5,  6,  7,  8,  9, 10, 11, 12, 13, 14, 15, 16, 17,\n",
      "       18, 19, 20]),\n",
      "                         'tol': array([1.e-04, 1.e-03, 1.e-02, 1.e-01, 1.e+00])},\n",
      "             pre_dispatch='2*n_jobs', refit=True, return_train_score=False,\n",
      "             scoring=None, verbose=0)\n",
      "0.8813638486688463\n",
      "LinearSVC(C=5, class_weight=None, dual=False, fit_intercept=True,\n",
      "          intercept_scaling=1, loss='squared_hinge', max_iter=1000,\n",
      "          multi_class='ovr', penalty='l2', random_state=5, tol=0.01, verbose=0)\n"
     ]
    }
   ],
   "source": [
    "#create arrays for ranges of parameters to attempt\n",
    "tolerance = np.array([.0001, .001, .01, .1, 1])\n",
    "scale = np.array(range(1, 21))\n",
    "\n",
    "#initiate gridsearch\n",
    "grid_svm = GridSearchCV(estimator= LinearSVC(dual=False, random_state=5), \n",
    "                       param_grid={'C': scale, 'tol': tolerance}, cv=5)\n",
    "#fit and print\n",
    "grid_svm.fit(X_train, y_train)\n",
    "print(grid_svm)\n",
    "print(grid_svm.best_score_)\n",
    "print(grid_svm.best_estimator_)\n",
    "\n",
    "#for later visualization\n",
    "grid_svm_y_pred = grid_svm.best_estimator_.predict(X_test)\n",
    "svmgrid_cf = confusion_matrix(y_test, grid_svm_y_pred)"
   ]
  },
  {
   "cell_type": "markdown",
   "metadata": {},
   "source": [
    "### GridSearch for Logistic Regression"
   ]
  },
  {
   "cell_type": "code",
   "execution_count": null,
   "metadata": {},
   "outputs": [],
   "source": [
    "#this cell takes awhile to run\n",
    "\n",
    "#create arrays for ranges of parameters to attempt\n",
    "tolerance = np.array([.0001, .001, .01, .1, 1])\n",
    "scale = np.array(range(1, 21))\n",
    "\n",
    "#initiate gridsearch\n",
    "grid_lr = GridSearchCV(estimator= LogisticRegression(penalty='l1', solver='liblinear', random_state=5), \n",
    "                       param_grid={'tol': tolerance, 'C': scale, 'intercept_scaling':scale}, cv=5)\n",
    "#fit and print\n",
    "grid_lr.fit(X_train, y_train)\n",
    "print(grid_lr)\n",
    "print(grid_lr.best_score_)\n",
    "print(grid_lr.best_estimator_)\n",
    "\n",
    "#for later visualization\n",
    "grid_lr_y_pred = grid_lr.best_estimator_.predict(X_test)\n",
    "lrgrid_cf = confusion_matrix(y_test, grid_lr_y_pred)"
   ]
  },
  {
   "cell_type": "markdown",
   "metadata": {},
   "source": [
    "# Conclusions\n",
    "Compare confusion matrices and metrics of each model"
   ]
  },
  {
   "cell_type": "markdown",
   "metadata": {},
   "source": [
    "#### Metrics and visualizations for out of box models"
   ]
  },
  {
   "cell_type": "code",
   "execution_count": null,
   "metadata": {},
   "outputs": [],
   "source": [
    "sns.set(font_scale=5)\n",
    "fig = plt.figure(figsize = (60,60))\n",
    "\n",
    "ax1 = fig.add_subplot(3, 3, 1)\n",
    "ax1.set_title('Random Forest')\n",
    "\n",
    "ax2 = fig.add_subplot(3, 3, 2)\n",
    "ax2.set_title('Support Vector Machine')\n",
    "\n",
    "ax3 = fig.add_subplot(3, 3, 3)\n",
    "ax3.set_title('Logistic Regression')\n",
    "\n",
    "sns.heatmap(rf_cf/np.sum(rf_cf), ax=ax1, annot=True, fmt='.2%', cmap='Greens')\n",
    "sns.heatmap(svm_cf/np.sum(svm_cf), ax=ax2, annot=True, fmt='.2%', cmap='Reds')\n",
    "sns.heatmap(lr_cf/np.sum(lr_cf), ax=ax3, annot=True, fmt='.2%', cmap='Blues')\n",
    "\n",
    "plt.show()"
   ]
  },
  {
   "cell_type": "code",
   "execution_count": null,
   "metadata": {},
   "outputs": [],
   "source": [
    "#this cell is to create metric printouts for each model\n",
    "\n",
    "#make list for each confusion matrix that will be used to loop through and calculate each metric\n",
    "cfs = [rf_cf, svm_cf, lr_cf]\n",
    "#initiate dictionary for the printouts to be added to\n",
    "cfs_dict = {}\n",
    "\n",
    "#for loop that creates a printout of metrics for each model\n",
    "#downside is that the index for each model within the dictionary is its confusion matrix\n",
    "#ie: to return the metric printout for the random forest model you type: print(cfs_dict['[[ 59  57]\\n [ 29 773]]'])\n",
    "for cf in cfs:\n",
    "    accuracy  = np.trace(cf) / float(np.sum(cf))\n",
    "    precision = cf[1,1] / sum(cf[:,1])\n",
    "    recall    = cf[1,1] / sum(cf[1,:])\n",
    "    f1_score  = 2*precision*recall / (precision + recall)\n",
    "    \n",
    "    cfs_dict[\"{0}\".format(cf)]= f\"Accuracy  = {accuracy*100:.4}\\\n",
    "                                \\nPrecision = {precision*100:.4}\\\n",
    "                                \\nRecall    = {recall*100:.4}\\\n",
    "                                \\nF1 Score  = {f1_score*100:.4}\"\n",
    "\n",
    "#rename each set of metrics\n",
    "rf_met = cfs_dict['[[ 59  57]\\n [ 29 773]]']\n",
    "svm_met = cfs_dict['[[ 17  99]\\n [ 13 789]]']\n",
    "lr_met = cfs_dict['[[  3 113]\\n [  5 797]]']"
   ]
  },
  {
   "cell_type": "code",
   "execution_count": null,
   "metadata": {
    "scrolled": false
   },
   "outputs": [],
   "source": [
    "print(f\"Out of Box Algorithm Metrics as Percentages \\n\\nRandom Forest: \\n{rf_met}\\\n",
    "       \\n\\nSupport Vector Machine: \\n{svm_met}\\n\\nLogistic Regression: \\n{lr_met}\")"
   ]
  },
  {
   "cell_type": "markdown",
   "metadata": {},
   "source": [
    "#### Metrics and visualizations for GridSearch CV optimized models\n"
   ]
  },
  {
   "cell_type": "code",
   "execution_count": null,
   "metadata": {},
   "outputs": [],
   "source": [
    "#confusion matrix heatmaps\n",
    "sns.set(font_scale=5)\n",
    "fig = plt.figure(figsize = (60,60))\n",
    "\n",
    "ax1 = fig.add_subplot(3, 3, 1)\n",
    "ax1.set_title('Random Forest')\n",
    "\n",
    "ax2 = fig.add_subplot(3, 3, 2)\n",
    "ax2.set_title('Support Vector Machine')\n",
    "\n",
    "ax3 = fig.add_subplot(3, 3, 3)\n",
    "ax3.set_title('Logistic Regression')\n",
    "\n",
    "sns.heatmap(rfgrid_cf/np.sum(rfgrid_cf), ax=ax1, annot=True, fmt='.2%', cmap='Greens')\n",
    "sns.heatmap(svmgrid_cf/np.sum(svmgrid_cf), ax=ax2, annot=True, fmt='.2%', cmap='Reds')\n",
    "sns.heatmap(lrgrid_cf/np.sum(lrgrid_cf), ax=ax3, annot=True, fmt='.2%', cmap='Blues')\n",
    "\n",
    "plt.show()"
   ]
  },
  {
   "cell_type": "code",
   "execution_count": null,
   "metadata": {},
   "outputs": [],
   "source": [
    "#make list for each confusion matrix that will be used to loop through and calculate each metric\n",
    "cfs2 = [rfgrid_cf, svmgrid_cf, lrgrid_cf]\n",
    "#initiate dictionary for the printouts to be added to\n",
    "cfs2_dict = {}\n",
    "\n",
    "#for loop that creates a printout of metrics for each model\n",
    "#downside is that the index for each model within the dictionary is its confusion matrix\n",
    "#ie: to return the metric printout for the random forest model you type: print(cfs_dict['[[ 59  57]\\n [ 29 773]]'])\n",
    "for cf in cfs2:\n",
    "    accuracy  = np.trace(cf) / float(np.sum(cf))\n",
    "    precision = cf[1,1] / sum(cf[:,1])\n",
    "    recall    = cf[1,1] / sum(cf[1,:])\n",
    "    f1_score  = 2*precision*recall / (precision + recall)\n",
    "    \n",
    "    cfs2_dict[\"{0}\".format(cf)]= f\"Accuracy  = {accuracy*100:.4}\\\n",
    "                                \\nPrecision = {precision*100:.4}\\\n",
    "                                \\nRecall    = {recall*100:.4}\\\n",
    "                                \\nF1 Score  = {f1_score*100:.4}\"\n",
    "\n",
    "#rename each set of metrics\n",
    "rfgrid_met = cfs2_dict['[[ 37  79]\\n [  5 797]]']\n",
    "svmgrid_met = cfs2_dict['[[ 26  90]\\n [ 18 784]]']\n",
    "lrgrid_met = cfs2_dict['[[ 34  82]\\n [ 23 779]]']"
   ]
  },
  {
   "cell_type": "code",
   "execution_count": null,
   "metadata": {},
   "outputs": [],
   "source": [
    "print(f\"GridSearch CV Optimized Algorithm Metrics as Percentages \\n\\nRandom Forest: \\n{rfgrid_met}\\\n",
    "      \\n\\nSupport Vector Machine: \\n{svmgrid_met}\\n\\nLogistic Regression: \\n{lrgrid_met}\")"
   ]
  },
  {
   "cell_type": "markdown",
   "metadata": {},
   "source": [
    "## Closing Statements:\n",
    "\n",
    "The biggest impact on average ratings:\n",
    "- Negative: walking & length\n",
    "- Positive: number of reviews and waterfalls\n",
    "\n",
    "Almost every single metric was improved by implementing GridSearch CV. It is interesting to note how all true positive predictions decreased while true negatives increased by a larger amount, increasing overall prediction accuracies.\n",
    "The random forest classifier model was determined to be the most accurate predictor of trail rating at 90.85%."
   ]
  },
  {
   "cell_type": "markdown",
   "metadata": {},
   "source": [
    "## Ideas for future additions:\n",
    "\n",
    "- Train models to predict popularity, visitor usage, and number of reviews\n",
    "- One-hot encode areas and state names to include in prediction models\n",
    "- Gather data on elevation of trailheads to see how starting elevation affects the dependent variable\n",
    "- Gather data on non-national park trails to compare & combine data"
   ]
  }
 ],
 "metadata": {
  "kernelspec": {
   "display_name": "Python 3",
   "language": "python",
   "name": "python3"
  },
  "language_info": {
   "codemirror_mode": {
    "name": "ipython",
    "version": 3
   },
   "file_extension": ".py",
   "mimetype": "text/x-python",
   "name": "python",
   "nbconvert_exporter": "python",
   "pygments_lexer": "ipython3",
   "version": "3.7.4"
  }
 },
 "nbformat": 4,
 "nbformat_minor": 2
}
