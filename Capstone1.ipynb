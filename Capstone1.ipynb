{
 "cells": [
  {
   "cell_type": "markdown",
   "metadata": {},
   "source": [
    "# Capstone Project 1\n",
    "## National Park Trail Analysis\n",
    "\n"
   ]
  },
  {
   "cell_type": "code",
   "execution_count": 1,
   "metadata": {},
   "outputs": [],
   "source": [
    "import pandas as pd\n",
    "import json\n",
    "import matplotlib.pyplot as plt\n",
    "import scipy.stats\n",
    "import numpy as np"
   ]
  },
  {
   "cell_type": "code",
   "execution_count": 2,
   "metadata": {},
   "outputs": [],
   "source": [
    "import matplotlib\n",
    "import matplotlib.pyplot as pp\n",
    "\n",
    "import pandas.plotting\n",
    "\n",
    "from IPython import display\n",
    "from ipywidgets import interact, widgets"
   ]
  },
  {
   "cell_type": "code",
   "execution_count": 3,
   "metadata": {},
   "outputs": [],
   "source": [
    "import re\n",
    "import mailbox\n",
    "import csv"
   ]
  },
  {
   "cell_type": "code",
   "execution_count": 43,
   "metadata": {},
   "outputs": [],
   "source": [
    "pd.set_option('display.max_colwidth', -1)\n",
    "df = pd.read_csv(r'C:\\Users\\Evan\\Programming\\Jupiter Projects\\Capstone_1\\AllTrails data - nationalpark.csv')\n",
    "#create a dataframe that won't be altered at all for any kind of necessary testing\n",
    "og_df = pd.read_csv(r'C:\\Users\\Evan\\Programming\\Jupiter Projects\\Capstone_1\\AllTrails data - nationalpark.csv')\n",
    "df.head(3)"
   ]
  },
  {
   "cell_type": "markdown",
   "metadata": {},
   "source": [
    "# Clean and reorganize data for analysis"
   ]
  },
  {
   "cell_type": "markdown",
   "metadata": {},
   "source": [
    "Check for any missing values within the dataset."
   ]
  },
  {
   "cell_type": "code",
   "execution_count": 13,
   "metadata": {
    "collapsed": true
   },
   "outputs": [
    {
     "name": "stdout",
     "output_type": "stream",
     "text": [
      "<class 'pandas.core.frame.DataFrame'>\n",
      "RangeIndex: 3313 entries, 0 to 3312\n",
      "Data columns (total 47 columns):\n",
      "trail_id             3313 non-null int64\n",
      "name                 3313 non-null object\n",
      "area_name            3313 non-null object\n",
      "city_name            3313 non-null object\n",
      "state_name           3313 non-null object\n",
      "country_name         3313 non-null object\n",
      "_geoloc              3313 non-null object\n",
      "popularity           3313 non-null float64\n",
      "length               3313 non-null float64\n",
      "elevation_gain       3313 non-null float64\n",
      "difficulty_rating    3313 non-null int64\n",
      "route_type           3313 non-null object\n",
      "visitor_usage        3060 non-null float64\n",
      "avg_rating           3313 non-null float64\n",
      "num_reviews          3313 non-null int64\n",
      "features             3313 non-null object\n",
      "activities           3313 non-null object\n",
      "units                3313 non-null object\n",
      "forest               3313 non-null int64\n",
      "river                3313 non-null int64\n",
      "no-dogs              3313 non-null int64\n",
      "leash-dogs           3313 non-null int64\n",
      "views                3313 non-null int64\n",
      "waterfall            3313 non-null int64\n",
      "wildlife             3313 non-null int64\n",
      "wild-flowers         3313 non-null int64\n",
      "lake                 3313 non-null int64\n",
      "beach                3313 non-null int64\n",
      "paved                3313 non-null int64\n",
      "kids                 3313 non-null int64\n",
      "partially-paved      3313 non-null int64\n",
      "cave                 3313 non-null int64\n",
      "strollers            3313 non-null int64\n",
      "birding              3313 non-null int64\n",
      "hiking               3313 non-null int64\n",
      "nature-trips         3313 non-null int64\n",
      "walking              3313 non-null int64\n",
      "mountain-biking      3313 non-null int64\n",
      "trail-running        3313 non-null int64\n",
      "camping              3313 non-null int64\n",
      "fishing              3313 non-null int64\n",
      "snowshoeing          3313 non-null int64\n",
      "fly-fishing          3313 non-null int64\n",
      "backpacking          3313 non-null int64\n",
      "horseback-riding     3313 non-null int64\n",
      "rock-climbing        3313 non-null int64\n",
      "scenic-driving       3313 non-null int64\n",
      "dtypes: float64(5), int64(32), object(10)\n",
      "memory usage: 1.2+ MB\n"
     ]
    }
   ],
   "source": [
    "df.info()"
   ]
  },
  {
   "cell_type": "markdown",
   "metadata": {},
   "source": [
    "The only visible 'False' value is under 'visitor_usage'. "
   ]
  },
  {
   "cell_type": "markdown",
   "metadata": {},
   "source": [
    "Visitor usage seems to be the only column with any missing values (253 rows). Since this is only about 7.6% of the data the 253 rows will be omitted."
   ]
  },
  {
   "cell_type": "code",
   "execution_count": 44,
   "metadata": {
    "collapsed": true
   },
   "outputs": [
    {
     "name": "stdout",
     "output_type": "stream",
     "text": [
      "<class 'pandas.core.frame.DataFrame'>\n",
      "Int64Index: 3060 entries, 0 to 3312\n",
      "Data columns (total 18 columns):\n",
      "trail_id             3060 non-null int64\n",
      "name                 3060 non-null object\n",
      "area_name            3060 non-null object\n",
      "city_name            3060 non-null object\n",
      "state_name           3060 non-null object\n",
      "country_name         3060 non-null object\n",
      "_geoloc              3060 non-null object\n",
      "popularity           3060 non-null float64\n",
      "length               3060 non-null float64\n",
      "elevation_gain       3060 non-null float64\n",
      "difficulty_rating    3060 non-null int64\n",
      "route_type           3060 non-null object\n",
      "visitor_usage        3060 non-null float64\n",
      "avg_rating           3060 non-null float64\n",
      "num_reviews          3060 non-null int64\n",
      "features             3060 non-null object\n",
      "activities           3060 non-null object\n",
      "units                3060 non-null object\n",
      "dtypes: float64(5), int64(3), object(10)\n",
      "memory usage: 454.2+ KB\n"
     ]
    }
   ],
   "source": [
    "df = df.dropna()\n",
    "df.info()\n",
    "#left with 3060 rows"
   ]
  },
  {
   "cell_type": "code",
   "execution_count": 45,
   "metadata": {},
   "outputs": [],
   "source": [
    "#go through each item in features and activities to create a new column for easier analysis\n",
    "\n",
    "#new column for each feature\n",
    "df['forest'] = df['features'].apply(lambda x: 1 if 'forest' in x else 0)\n",
    "df['river'] = df['features'].apply(lambda x: 1 if 'river' in x else 0)\n",
    "df['no-dogs'] = df['features'].apply(lambda x: 1 if 'dogs-no' in x else 0)\n",
    "df['leash-dogs'] = df['features'].apply(lambda x: 1 if 'dogs-leash' in x else 0)\n",
    "df['views'] = df['features'].apply(lambda x: 1 if 'views' in x else 0)\n",
    "df['waterfall'] = df['features'].apply(lambda x: 1 if 'waterfall' in x else 0)\n",
    "df['wildlife'] = df['features'].apply(lambda x: 1 if 'wildlife' in x else 0)\n",
    "df['wild-flowers'] = df['features'].apply(lambda x: 1 if 'wild-flowers' in x else 0)\n",
    "df['lake'] = df['features'].apply(lambda x: 1 if 'lake' in x else 0)\n",
    "df['beach'] = df['features'].apply(lambda x: 1 if 'beach' in x else 0)\n",
    "df['paved'] = df['features'].apply(lambda x: 1 if 'paved' in x else 0)\n",
    "df['kids'] = df['features'].apply(lambda x: 1 if 'kids' in x else 0)\n",
    "df['partially-paved'] = df['features'].apply(lambda x: 1 if 'partially-paved' in x else 0)\n",
    "df['cave'] = df['features'].apply(lambda x: 1 if 'cave' in x else 0)\n",
    "df['strollers'] = df['features'].apply(lambda x: 1 if 'strollers' in x else 0)\n",
    "\n",
    "#new column for each activity\n",
    "df['birding'] = df['activities'].apply(lambda x: 1 if 'birding' in x else 0)\n",
    "df['hiking'] = df['activities'].apply(lambda x: 1 if 'hiking' in x else 0)\n",
    "df['nature-trips'] = df['activities'].apply(lambda x: 1 if 'nature-trips' in x else 0)\n",
    "df['walking'] = df['activities'].apply(lambda x: 1 if 'walking' in x else 0)\n",
    "df['mountain-biking'] = df['activities'].apply(lambda x: 1 if 'mountain-biking' in x else 0)\n",
    "df['trail-running'] = df['activities'].apply(lambda x: 1 if 'trail-running' in x else 0)\n",
    "df['camping'] = df['activities'].apply(lambda x: 1 if 'camping' in x else 0)\n",
    "df['fishing'] = df['activities'].apply(lambda x: 1 if 'fishing' in x else 0)\n",
    "df['snowshoeing'] = df['activities'].apply(lambda x: 1 if 'snowshoeing' in x else 0)\n",
    "df['fly-fishing'] = df['activities'].apply(lambda x: 1 if 'fly-fishing' in x else 0)\n",
    "df['backpacking'] = df['activities'].apply(lambda x: 1 if 'backpacking' in x else 0)\n",
    "df['horseback-riding'] = df['activities'].apply(lambda x: 1 if 'horseback-riding' in x else 0)\n",
    "df['rock-climbing'] = df['activities'].apply(lambda x: 1 if 'rock-climbing' in x else 0)\n",
    "df['scenic-driving'] = df['activities'].apply(lambda x: 1 if 'scenic-driving' in x else 0)\n"
   ]
  },
  {
   "cell_type": "code",
   "execution_count": 46,
   "metadata": {},
   "outputs": [],
   "source": [
    "#now get rid of the original features/activity columns \n",
    "df.drop('features', axis=1, inplace=True)\n",
    "df.drop('activities', axis=1, inplace=True)"
   ]
  },
  {
   "cell_type": "markdown",
   "metadata": {},
   "source": [
    "Maui has been discovered to be listed as its own state (it is a county/island within the state), combine this with Hawaii. The simplest solution here seems to be to just change the 'Maui' entries to 'Hawaii'."
   ]
  },
  {
   "cell_type": "code",
   "execution_count": 63,
   "metadata": {},
   "outputs": [],
   "source": [
    "#replace any instances of Maui as a state name with Hawaii\n",
    "df['state_name']=df[\"state_name\"].replace('Maui', \"Hawaii\")"
   ]
  },
  {
   "cell_type": "markdown",
   "metadata": {},
   "source": [
    "During this reorganizing it has also been noticed that the country name for both Maui and Hawaii are listed as Hawaii, but of course these are both within the United States so this will be resolved as well."
   ]
  },
  {
   "cell_type": "code",
   "execution_count": 64,
   "metadata": {},
   "outputs": [],
   "source": [
    "#replace any isntances of Hawaii as a country name with United States\n",
    "df['country_name']=df[\"country_name\"].replace('Hawaii', \"United States\")"
   ]
  },
  {
   "cell_type": "markdown",
   "metadata": {},
   "source": [
    "# Exploratory Data Analysis & Story Telling"
   ]
  },
  {
   "cell_type": "markdown",
   "metadata": {},
   "source": [
    "Start by checking out how the trails are distributed through the country."
   ]
  },
  {
   "cell_type": "code",
   "execution_count": 66,
   "metadata": {
    "collapsed": true
   },
   "outputs": [
    {
     "data": {
      "text/plain": [
       "California        633\n",
       "Washington        297\n",
       "Wyoming           290\n",
       "Utah              282\n",
       "Colorado          242\n",
       "Maine             175\n",
       "Arizona           164\n",
       "Virginia          163\n",
       "Tennessee         162\n",
       "Montana           144\n",
       "North Carolina    109\n",
       "Texas             91 \n",
       "Ohio              50 \n",
       "Hawaii            42 \n",
       "Florida           29 \n",
       "Alaska            28 \n",
       "Nevada            25 \n",
       "Kentucky          22 \n",
       "Oregon            19 \n",
       "North Dakota      19 \n",
       "Arkansas          16 \n",
       "Indiana           15 \n",
       "South Dakota      15 \n",
       "South Carolina    8  \n",
       "New Mexico        8  \n",
       "Minnesota         7  \n",
       "Missouri          2  \n",
       "Michigan          2  \n",
       "Georgia           1  \n",
       "Name: state_name, dtype: int64"
      ]
     },
     "execution_count": 66,
     "metadata": {},
     "output_type": "execute_result"
    }
   ],
   "source": [
    "#Number of trails per state\n",
    "df['state_name'].value_counts()"
   ]
  },
  {
   "cell_type": "markdown",
   "metadata": {},
   "source": [
    "It looks like California has a large lead on number of trails. Quite a few states have no national parks and some have very few trails within theirs - somehow Georgia managed to only have one trail."
   ]
  },
  {
   "cell_type": "code",
   "execution_count": 77,
   "metadata": {
    "scrolled": false
   },
   "outputs": [
    {
     "data": {
      "text/html": [
       "<div>\n",
       "<style scoped>\n",
       "    .dataframe tbody tr th:only-of-type {\n",
       "        vertical-align: middle;\n",
       "    }\n",
       "\n",
       "    .dataframe tbody tr th {\n",
       "        vertical-align: top;\n",
       "    }\n",
       "\n",
       "    .dataframe thead th {\n",
       "        text-align: right;\n",
       "    }\n",
       "</style>\n",
       "<table border=\"1\" class=\"dataframe\">\n",
       "  <thead>\n",
       "    <tr style=\"text-align: right;\">\n",
       "      <th></th>\n",
       "      <th>trail_id</th>\n",
       "      <th>name</th>\n",
       "      <th>area_name</th>\n",
       "      <th>city_name</th>\n",
       "      <th>state_name</th>\n",
       "      <th>country_name</th>\n",
       "      <th>_geoloc</th>\n",
       "      <th>popularity</th>\n",
       "      <th>length</th>\n",
       "      <th>elevation_gain</th>\n",
       "      <th>...</th>\n",
       "      <th>mountain-biking</th>\n",
       "      <th>trail-running</th>\n",
       "      <th>camping</th>\n",
       "      <th>fishing</th>\n",
       "      <th>snowshoeing</th>\n",
       "      <th>fly-fishing</th>\n",
       "      <th>backpacking</th>\n",
       "      <th>horseback-riding</th>\n",
       "      <th>rock-climbing</th>\n",
       "      <th>scenic-driving</th>\n",
       "    </tr>\n",
       "  </thead>\n",
       "  <tbody>\n",
       "    <tr>\n",
       "      <td>1219</td>\n",
       "      <td>10259207</td>\n",
       "      <td>Clayton County International Park Trail</td>\n",
       "      <td>Clayton Co International Park, Jonesboro GA</td>\n",
       "      <td>Jonesboro</td>\n",
       "      <td>Georgia</td>\n",
       "      <td>United States</td>\n",
       "      <td>{'lat': 33.5312, 'lng': -84.31568}</td>\n",
       "      <td>4.7291</td>\n",
       "      <td>2574.944</td>\n",
       "      <td>36.8808</td>\n",
       "      <td>...</td>\n",
       "      <td>1</td>\n",
       "      <td>1</td>\n",
       "      <td>0</td>\n",
       "      <td>0</td>\n",
       "      <td>0</td>\n",
       "      <td>0</td>\n",
       "      <td>0</td>\n",
       "      <td>0</td>\n",
       "      <td>0</td>\n",
       "      <td>0</td>\n",
       "    </tr>\n",
       "  </tbody>\n",
       "</table>\n",
       "<p>1 rows × 45 columns</p>\n",
       "</div>"
      ],
      "text/plain": [
       "      trail_id                                     name  \\\n",
       "1219  10259207  Clayton County International Park Trail   \n",
       "\n",
       "                                        area_name  city_name state_name  \\\n",
       "1219  Clayton Co International Park, Jonesboro GA  Jonesboro  Georgia     \n",
       "\n",
       "       country_name                             _geoloc  popularity    length  \\\n",
       "1219  United States  {'lat': 33.5312, 'lng': -84.31568}  4.7291      2574.944   \n",
       "\n",
       "      elevation_gain  ...  mountain-biking trail-running  camping  fishing  \\\n",
       "1219  36.8808         ...  1                1             0        0         \n",
       "\n",
       "      snowshoeing fly-fishing  backpacking  horseback-riding  rock-climbing  \\\n",
       "1219  0            0           0            0                 0               \n",
       "\n",
       "      scenic-driving  \n",
       "1219  0               \n",
       "\n",
       "[1 rows x 45 columns]"
      ]
     },
     "execution_count": 77,
     "metadata": {},
     "output_type": "execute_result"
    }
   ],
   "source": [
    "df.loc[df['state_name']=='Georgia']"
   ]
  },
  {
   "cell_type": "code",
   "execution_count": 100,
   "metadata": {
    "scrolled": true
   },
   "outputs": [],
   "source": [
    "df = df[df.state_name != 'Georgia']"
   ]
  },
  {
   "cell_type": "markdown",
   "metadata": {},
   "source": [
    "Upon further inspection the national park listed in Georgia is Clayton Co International Park, which is more of a local park/events space. Just to double check a quick web search confirms there are no national parks within the state (although still some great trails!). So Georgia was removed from the dataframe. Michigan and Missouri were also checked and are accurate. \n",
    "\n",
    "Fun fact: Missouri's Gateway Arch is the United State's smallest National Park."
   ]
  },
  {
   "cell_type": "code",
   "execution_count": 106,
   "metadata": {
    "scrolled": true
   },
   "outputs": [
    {
     "data": {
      "image/png": "[encoded data removed]",
      "text/plain": [
       "<Figure size 432x288 with 1 Axes>"
      ]
     },
     "metadata": {
      "needs_background": "light"
     },
     "output_type": "display_data"
    }
   ],
   "source": [
    "#take a look at trail lengths\n",
    "df.length.plot(kind='box')\n",
    "plt.show()"
   ]
  },
  {
   "cell_type": "markdown",
   "metadata": {},
   "source": [
    "Almost all of the trails are under ~200000 yards (about 113 miles). Let's look at the outliers."
   ]
  },
  {
   "cell_type": "code",
   "execution_count": 42,
   "metadata": {},
   "outputs": [
    {
     "data": {
      "text/html": [
       "<div>\n",
       "<style scoped>\n",
       "    .dataframe tbody tr th:only-of-type {\n",
       "        vertical-align: middle;\n",
       "    }\n",
       "\n",
       "    .dataframe tbody tr th {\n",
       "        vertical-align: top;\n",
       "    }\n",
       "\n",
       "    .dataframe thead th {\n",
       "        text-align: right;\n",
       "    }\n",
       "</style>\n",
       "<table border=\"1\" class=\"dataframe\">\n",
       "  <thead>\n",
       "    <tr style=\"text-align: right;\">\n",
       "      <th></th>\n",
       "      <th>trail_id</th>\n",
       "      <th>name</th>\n",
       "      <th>area_name</th>\n",
       "      <th>city_name</th>\n",
       "      <th>state_name</th>\n",
       "      <th>country_name</th>\n",
       "      <th>_geoloc</th>\n",
       "      <th>popularity</th>\n",
       "      <th>length</th>\n",
       "      <th>elevation_gain</th>\n",
       "      <th>difficulty_rating</th>\n",
       "      <th>route_type</th>\n",
       "      <th>visitor_usage</th>\n",
       "      <th>avg_rating</th>\n",
       "      <th>num_reviews</th>\n",
       "      <th>features</th>\n",
       "      <th>activities</th>\n",
       "      <th>units</th>\n",
       "    </tr>\n",
       "  </thead>\n",
       "  <tbody>\n",
       "    <tr>\n",
       "      <td>2753</td>\n",
       "      <td>10040050</td>\n",
       "      <td>Olympic Peninsula Loop Drive</td>\n",
       "      <td>Olympic National Park</td>\n",
       "      <td>Olympia</td>\n",
       "      <td>Washington</td>\n",
       "      <td>United States</td>\n",
       "      <td>{'lat': 47.02164, 'lng': -122.90689}</td>\n",
       "      <td>9.9486</td>\n",
       "      <td>529794.728</td>\n",
       "      <td>5096.8656</td>\n",
       "      <td>1</td>\n",
       "      <td>loop</td>\n",
       "      <td>2.0</td>\n",
       "      <td>4.5</td>\n",
       "      <td>18</td>\n",
       "      <td>['beach', 'forest', 'lake', 'kids', 'hot-springs', 'river', 'views', 'waterfall', 'wild-flowers', 'wildlife']</td>\n",
       "      <td>['birding', 'camping', 'fishing', 'nature-trips', 'scenic-driving', 'sea-kayaking']</td>\n",
       "      <td>i</td>\n",
       "    </tr>\n",
       "  </tbody>\n",
       "</table>\n",
       "</div>"
      ],
      "text/plain": [
       "      trail_id                          name              area_name city_name  \\\n",
       "2753  10040050  Olympic Peninsula Loop Drive  Olympic National Park  Olympia    \n",
       "\n",
       "      state_name   country_name                               _geoloc  \\\n",
       "2753  Washington  United States  {'lat': 47.02164, 'lng': -122.90689}   \n",
       "\n",
       "      popularity      length  elevation_gain  difficulty_rating route_type  \\\n",
       "2753  9.9486      529794.728  5096.8656       1                  loop        \n",
       "\n",
       "      visitor_usage  avg_rating  num_reviews  \\\n",
       "2753  2.0            4.5         18            \n",
       "\n",
       "                                                                                                           features  \\\n",
       "2753  ['beach', 'forest', 'lake', 'kids', 'hot-springs', 'river', 'views', 'waterfall', 'wild-flowers', 'wildlife']   \n",
       "\n",
       "                                                                               activities  \\\n",
       "2753  ['birding', 'camping', 'fishing', 'nature-trips', 'scenic-driving', 'sea-kayaking']   \n",
       "\n",
       "     units  \n",
       "2753  i     "
      ]
     },
     "execution_count": 42,
     "metadata": {},
     "output_type": "execute_result"
    }
   ],
   "source": [
    "df.loc[df['name'] == 'Olympic Peninsula Loop Drive']"
   ]
  },
  {
   "cell_type": "markdown",
   "metadata": {},
   "source": [
    "The biggest outlier is a trail in Washington which is a driving loop around the Olympic Peninsula that is over 300 miles long."
   ]
  },
  {
   "cell_type": "code",
   "execution_count": 122,
   "metadata": {},
   "outputs": [
    {
     "data": {
      "text/plain": [
       "1166"
      ]
     },
     "execution_count": 122,
     "metadata": {},
     "output_type": "execute_result"
    }
   ],
   "source": [
    "trail_count = df.loc[df['length'] > 14999].count()\n",
    "trail_count['trail_id']"
   ]
  },
  {
   "cell_type": "markdown",
   "metadata": {},
   "source": [
    "While the scale goes well over 500,000 (yards), theres only 191 entries that are longer than 50,000; about 28 miles. Over a third of the 3059 trails are shorter than 15,000, equivelant to 8.5 miles. Looking at the other end of the spectrum there are some entries less than a tenth of a mile long, and even one listed at 0."
   ]
  },
  {
   "cell_type": "code",
   "execution_count": 115,
   "metadata": {
    "scrolled": true
   },
   "outputs": [
    {
     "data": {
      "text/html": [
       "<div>\n",
       "<style scoped>\n",
       "    .dataframe tbody tr th:only-of-type {\n",
       "        vertical-align: middle;\n",
       "    }\n",
       "\n",
       "    .dataframe tbody tr th {\n",
       "        vertical-align: top;\n",
       "    }\n",
       "\n",
       "    .dataframe thead th {\n",
       "        text-align: right;\n",
       "    }\n",
       "</style>\n",
       "<table border=\"1\" class=\"dataframe\">\n",
       "  <thead>\n",
       "    <tr style=\"text-align: right;\">\n",
       "      <th></th>\n",
       "      <th>trail_id</th>\n",
       "      <th>name</th>\n",
       "      <th>area_name</th>\n",
       "      <th>city_name</th>\n",
       "      <th>state_name</th>\n",
       "      <th>country_name</th>\n",
       "      <th>_geoloc</th>\n",
       "      <th>popularity</th>\n",
       "      <th>length</th>\n",
       "      <th>elevation_gain</th>\n",
       "      <th>...</th>\n",
       "      <th>mountain-biking</th>\n",
       "      <th>trail-running</th>\n",
       "      <th>camping</th>\n",
       "      <th>fishing</th>\n",
       "      <th>snowshoeing</th>\n",
       "      <th>fly-fishing</th>\n",
       "      <th>backpacking</th>\n",
       "      <th>horseback-riding</th>\n",
       "      <th>rock-climbing</th>\n",
       "      <th>scenic-driving</th>\n",
       "    </tr>\n",
       "  </thead>\n",
       "  <tbody>\n",
       "    <tr>\n",
       "      <td>2339</td>\n",
       "      <td>10333504</td>\n",
       "      <td>Newspaper Rock Trail</td>\n",
       "      <td>Canyonlands National Park</td>\n",
       "      <td>Monticello</td>\n",
       "      <td>Utah</td>\n",
       "      <td>United States</td>\n",
       "      <td>{'lat': 37.98819, 'lng': -109.51825}</td>\n",
       "      <td>5.6874</td>\n",
       "      <td>0.000</td>\n",
       "      <td>0.0000</td>\n",
       "      <td>...</td>\n",
       "      <td>0</td>\n",
       "      <td>0</td>\n",
       "      <td>0</td>\n",
       "      <td>0</td>\n",
       "      <td>0</td>\n",
       "      <td>0</td>\n",
       "      <td>0</td>\n",
       "      <td>0</td>\n",
       "      <td>0</td>\n",
       "      <td>0</td>\n",
       "    </tr>\n",
       "    <tr>\n",
       "      <td>177</td>\n",
       "      <td>10258658</td>\n",
       "      <td>Walhalla Ruins</td>\n",
       "      <td>Grand Canyon National Park</td>\n",
       "      <td>North Rim</td>\n",
       "      <td>Arizona</td>\n",
       "      <td>United States</td>\n",
       "      <td>{'lat': 36.13336, 'lng': -111.94147}</td>\n",
       "      <td>2.7978</td>\n",
       "      <td>160.934</td>\n",
       "      <td>0.0000</td>\n",
       "      <td>...</td>\n",
       "      <td>0</td>\n",
       "      <td>0</td>\n",
       "      <td>0</td>\n",
       "      <td>0</td>\n",
       "      <td>0</td>\n",
       "      <td>0</td>\n",
       "      <td>0</td>\n",
       "      <td>0</td>\n",
       "      <td>0</td>\n",
       "      <td>0</td>\n",
       "    </tr>\n",
       "    <tr>\n",
       "      <td>1139</td>\n",
       "      <td>10328659</td>\n",
       "      <td>Sunset View Trail</td>\n",
       "      <td>Black Canyon of the Gunnison National Park</td>\n",
       "      <td>Montrose</td>\n",
       "      <td>Colorado</td>\n",
       "      <td>United States</td>\n",
       "      <td>{'lat': 38.56876, 'lng': -107.73352}</td>\n",
       "      <td>4.4651</td>\n",
       "      <td>160.934</td>\n",
       "      <td>0.9144</td>\n",
       "      <td>...</td>\n",
       "      <td>0</td>\n",
       "      <td>0</td>\n",
       "      <td>0</td>\n",
       "      <td>0</td>\n",
       "      <td>0</td>\n",
       "      <td>0</td>\n",
       "      <td>0</td>\n",
       "      <td>0</td>\n",
       "      <td>0</td>\n",
       "      <td>0</td>\n",
       "    </tr>\n",
       "  </tbody>\n",
       "</table>\n",
       "<p>3 rows × 45 columns</p>\n",
       "</div>"
      ],
      "text/plain": [
       "      trail_id                  name  \\\n",
       "2339  10333504  Newspaper Rock Trail   \n",
       "177   10258658  Walhalla Ruins         \n",
       "1139  10328659  Sunset View Trail      \n",
       "\n",
       "                                       area_name   city_name state_name  \\\n",
       "2339  Canyonlands National Park                   Monticello  Utah        \n",
       "177   Grand Canyon National Park                  North Rim   Arizona     \n",
       "1139  Black Canyon of the Gunnison National Park  Montrose    Colorado    \n",
       "\n",
       "       country_name                               _geoloc  popularity  \\\n",
       "2339  United States  {'lat': 37.98819, 'lng': -109.51825}  5.6874       \n",
       "177   United States  {'lat': 36.13336, 'lng': -111.94147}  2.7978       \n",
       "1139  United States  {'lat': 38.56876, 'lng': -107.73352}  4.4651       \n",
       "\n",
       "       length  elevation_gain  ...  mountain-biking trail-running  camping  \\\n",
       "2339  0.000    0.0000          ...  0                0             0         \n",
       "177   160.934  0.0000          ...  0                0             0         \n",
       "1139  160.934  0.9144          ...  0                0             0         \n",
       "\n",
       "      fishing  snowshoeing fly-fishing  backpacking  horseback-riding  \\\n",
       "2339  0        0            0           0            0                  \n",
       "177   0        0            0           0            0                  \n",
       "1139  0        0            0           0            0                  \n",
       "\n",
       "      rock-climbing  scenic-driving  \n",
       "2339  0              0               \n",
       "177   0              0               \n",
       "1139  0              0               \n",
       "\n",
       "[3 rows x 45 columns]"
      ]
     },
     "execution_count": 115,
     "metadata": {},
     "output_type": "execute_result"
    }
   ],
   "source": [
    "df_length = df.sort_values('length')\n",
    "df_length.head(3)"
   ]
  },
  {
   "cell_type": "markdown",
   "metadata": {},
   "source": [
    "Newspaper Rock Trail has a length of 0. After looking it up it appears to be a large rock that doesn't really require any hiking at all (but is covered in Indian Petroglyphs (carvings))."
   ]
  },
  {
   "cell_type": "markdown",
   "metadata": {},
   "source": [
    "Let's take a look at elevation gain as it likely has a large factor in trail difficulty and in turn can affect trail choice by consumers."
   ]
  },
  {
   "cell_type": "code",
   "execution_count": 43,
   "metadata": {},
   "outputs": [
    {
     "data": {
      "image/png": "[encoded data removed]",
      "text/plain": [
       "<Figure size 432x288 with 1 Axes>"
      ]
     },
     "metadata": {
      "needs_background": "light"
     },
     "output_type": "display_data"
    }
   ],
   "source": [
    "df.elevation_gain.plot(kind='box')\n",
    "plt.show()"
   ]
  },
  {
   "cell_type": "code",
   "execution_count": 44,
   "metadata": {
    "scrolled": true
   },
   "outputs": [
    {
     "data": {
      "image/png": "[encoded data removed]",
      "text/plain": [
       "<Figure size 432x288 with 1 Axes>"
      ]
     },
     "metadata": {
      "needs_background": "light"
     },
     "output_type": "display_data"
    }
   ],
   "source": [
    "df.num_reviews.plot(kind='box')\n",
    "plt.show()"
   ]
  },
  {
   "cell_type": "markdown",
   "metadata": {},
   "source": [
    "This graph gives great insight into what trails are used the most (regardless of a positive or negative review). Let's take a look at number of reviews vs trail length."
   ]
  },
  {
   "cell_type": "code",
   "execution_count": 45,
   "metadata": {
    "scrolled": true
   },
   "outputs": [
    {
     "data": {
      "text/plain": [
       "<matplotlib.axes._subplots.AxesSubplot at 0x1d3fdc5c288>"
      ]
     },
     "execution_count": 45,
     "metadata": {},
     "output_type": "execute_result"
    },
    {
     "data": {
      "image/png": "[encoded data removed]",
      "text/plain": [
       "<Figure size 432x288 with 1 Axes>"
      ]
     },
     "metadata": {
      "needs_background": "light"
     },
     "output_type": "display_data"
    }
   ],
   "source": [
    "df.plot(kind='scatter', x='length', y='num_reviews')"
   ]
  },
  {
   "cell_type": "markdown",
   "metadata": {},
   "source": [
    "This gives us a good look at trail usage even without the visitor_usage column."
   ]
  },
  {
   "cell_type": "code",
   "execution_count": null,
   "metadata": {},
   "outputs": [],
   "source": [
    "df.loc[df['state_name'] == 'Hawaii']"
   ]
  },
  {
   "cell_type": "code",
   "execution_count": 123,
   "metadata": {
    "scrolled": false
   },
   "outputs": [
    {
     "data": {
      "image/png": "[encoded data removed]",
      "text/plain": [
       "<Figure size 432x288 with 1 Axes>"
      ]
     },
     "metadata": {
      "needs_background": "light"
     },
     "output_type": "display_data"
    }
   ],
   "source": [
    "df.plot(kind='scatter', x='avg_rating', y='num_reviews')\n",
    "plt.title('Number of Reviews vs Average Rating')\n",
    "plt.xlabel('Average Rating')\n",
    "plt.ylabel('Number of Reviews')\n",
    "plt.show()"
   ]
  },
  {
   "cell_type": "markdown",
   "metadata": {},
   "source": [
    "Not surprisingly, the number of reviews increases with average ratings. When a trail receives higher ratings more people are interested in using that trail and it continues to become more and more popular, getting more reviews and good ratings.\n",
    "\n",
    "look at visitor usage as well.\n",
    "\n",
    "Having seen how these three variables correlate with each other (positively), I'm interested to see how each feature / activity affects each one and if there are any differences with how they compare when looking at specific features."
   ]
  },
  {
   "cell_type": "code",
   "execution_count": null,
   "metadata": {},
   "outputs": [],
   "source": []
  },
  {
   "cell_type": "code",
   "execution_count": null,
   "metadata": {},
   "outputs": [],
   "source": []
  },
  {
   "cell_type": "code",
   "execution_count": null,
   "metadata": {},
   "outputs": [],
   "source": []
  },
  {
   "cell_type": "code",
   "execution_count": null,
   "metadata": {},
   "outputs": [],
   "source": []
  },
  {
   "cell_type": "code",
   "execution_count": null,
   "metadata": {},
   "outputs": [],
   "source": []
  },
  {
   "cell_type": "code",
   "execution_count": null,
   "metadata": {},
   "outputs": [],
   "source": []
  },
  {
   "cell_type": "code",
   "execution_count": null,
   "metadata": {},
   "outputs": [],
   "source": []
  },
  {
   "cell_type": "code",
   "execution_count": null,
   "metadata": {},
   "outputs": [],
   "source": []
  }
 ],
 "metadata": {
  "kernelspec": {
   "display_name": "Python 3",
   "language": "python",
   "name": "python3"
  },
  "language_info": {
   "codemirror_mode": {
    "name": "ipython",
    "version": 3
   },
   "file_extension": ".py",
   "mimetype": "text/x-python",
   "name": "python",
   "nbconvert_exporter": "python",
   "pygments_lexer": "ipython3",
   "version": "3.7.4"
  }
 },
 "nbformat": 4,
 "nbformat_minor": 2
}
